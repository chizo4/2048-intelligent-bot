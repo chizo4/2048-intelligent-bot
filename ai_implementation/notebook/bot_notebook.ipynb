{
 "cells": [
  {
   "cell_type": "code",
   "execution_count": null,
   "metadata": {},
   "outputs": [],
   "source": [
    "'''\n",
    "2048 GAME PROJECT: Analysis of the bot efficiency and accuracy.\n",
    "\n",
    "Date created:\n",
    "    06/2022\n",
    "\n",
    "Author:\n",
    "    Filip J. Cierkosz\n",
    "'''\n",
    "\n",
    "# Analyze the accuracy of the obtaining the goal state.\n",
    "# Analyze the runtime for winning ones.\n",
    "# Find the fastest time to win the game.\n",
    "# Find the slowest time to win the game.\n",
    "# ...anything else to be added."
   ]
  }
 ],
 "metadata": {
  "language_info": {
   "name": "python"
  },
  "orig_nbformat": 4
 },
 "nbformat": 4,
 "nbformat_minor": 2
}
