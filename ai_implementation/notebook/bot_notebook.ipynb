{
 "cells": [
  {
   "cell_type": "code",
   "execution_count": 4,
   "metadata": {},
   "outputs": [],
   "source": [
    "'''\n",
    "2048 GAME PROJECT: Analysis of the bot efficiency and accuracy.\n",
    "\n",
    "Date created:\n",
    "    06/2022\n",
    "\n",
    "Author:\n",
    "    Filip J. Cierkosz\n",
    "'''\n",
    "\n",
    "# Analyze the accuracy of the obtaining the goal state.\n",
    "# Analyze the runtime for winning ones.\n",
    "# Find the fastest time to win the game.\n",
    "# Find the slowest time to win the game.\n",
    "# ...anything else to be added.\n",
    "import pandas as pd\n",
    "import numpy as np\n",
    "import sqlite3\n",
    "import matplotlib.pyplot as plt\n"
   ]
  },
  {
   "cell_type": "code",
   "execution_count": 5,
   "metadata": {},
   "outputs": [],
   "source": [
    "db = sqlite3.connect('../db/bot_records.db')\n",
    "df = pd.read_sql_query(\"SELECT * FROM bot_records\", db)"
   ]
  },
  {
   "cell_type": "code",
   "execution_count": 6,
   "metadata": {},
   "outputs": [
    {
     "data": {
      "text/plain": [
       "150"
      ]
     },
     "execution_count": 6,
     "metadata": {},
     "output_type": "execute_result"
    }
   ],
   "source": [
    "len(df[df['win']==1])"
   ]
  },
  {
   "cell_type": "code",
   "execution_count": 7,
   "metadata": {},
   "outputs": [
    {
     "data": {
      "text/plain": [
       "350"
      ]
     },
     "execution_count": 7,
     "metadata": {},
     "output_type": "execute_result"
    }
   ],
   "source": [
    "len(df[df['win']==0])"
   ]
  },
  {
   "cell_type": "code",
   "execution_count": 8,
   "metadata": {},
   "outputs": [
    {
     "data": {
      "text/html": [
       "<div>\n",
       "<style scoped>\n",
       "    .dataframe tbody tr th:only-of-type {\n",
       "        vertical-align: middle;\n",
       "    }\n",
       "\n",
       "    .dataframe tbody tr th {\n",
       "        vertical-align: top;\n",
       "    }\n",
       "\n",
       "    .dataframe thead th {\n",
       "        text-align: right;\n",
       "    }\n",
       "</style>\n",
       "<table border=\"1\" class=\"dataframe\">\n",
       "  <thead>\n",
       "    <tr style=\"text-align: right;\">\n",
       "      <th></th>\n",
       "      <th>id</th>\n",
       "      <th>score</th>\n",
       "      <th>win</th>\n",
       "      <th>time_played_sec</th>\n",
       "      <th>date_played</th>\n",
       "    </tr>\n",
       "  </thead>\n",
       "  <tbody>\n",
       "    <tr>\n",
       "      <th>490</th>\n",
       "      <td>491</td>\n",
       "      <td>1024</td>\n",
       "      <td>0</td>\n",
       "      <td>66.830692</td>\n",
       "      <td>29 Jun 2022 08:14:02 AM</td>\n",
       "    </tr>\n",
       "    <tr>\n",
       "      <th>491</th>\n",
       "      <td>492</td>\n",
       "      <td>2048</td>\n",
       "      <td>1</td>\n",
       "      <td>69.057199</td>\n",
       "      <td>29 Jun 2022 08:15:12 AM</td>\n",
       "    </tr>\n",
       "    <tr>\n",
       "      <th>492</th>\n",
       "      <td>493</td>\n",
       "      <td>2048</td>\n",
       "      <td>1</td>\n",
       "      <td>68.627941</td>\n",
       "      <td>29 Jun 2022 08:16:21 AM</td>\n",
       "    </tr>\n",
       "    <tr>\n",
       "      <th>493</th>\n",
       "      <td>494</td>\n",
       "      <td>1024</td>\n",
       "      <td>0</td>\n",
       "      <td>54.530487</td>\n",
       "      <td>29 Jun 2022 08:17:17 AM</td>\n",
       "    </tr>\n",
       "    <tr>\n",
       "      <th>494</th>\n",
       "      <td>495</td>\n",
       "      <td>1024</td>\n",
       "      <td>0</td>\n",
       "      <td>65.225030</td>\n",
       "      <td>29 Jun 2022 08:18:23 AM</td>\n",
       "    </tr>\n",
       "    <tr>\n",
       "      <th>495</th>\n",
       "      <td>496</td>\n",
       "      <td>2048</td>\n",
       "      <td>1</td>\n",
       "      <td>69.839370</td>\n",
       "      <td>29 Jun 2022 08:19:33 AM</td>\n",
       "    </tr>\n",
       "    <tr>\n",
       "      <th>496</th>\n",
       "      <td>497</td>\n",
       "      <td>1024</td>\n",
       "      <td>0</td>\n",
       "      <td>68.122755</td>\n",
       "      <td>29 Jun 2022 08:20:43 AM</td>\n",
       "    </tr>\n",
       "    <tr>\n",
       "      <th>497</th>\n",
       "      <td>498</td>\n",
       "      <td>1024</td>\n",
       "      <td>0</td>\n",
       "      <td>53.485373</td>\n",
       "      <td>29 Jun 2022 08:21:37 AM</td>\n",
       "    </tr>\n",
       "    <tr>\n",
       "      <th>498</th>\n",
       "      <td>499</td>\n",
       "      <td>1024</td>\n",
       "      <td>0</td>\n",
       "      <td>52.089843</td>\n",
       "      <td>29 Jun 2022 08:22:30 AM</td>\n",
       "    </tr>\n",
       "    <tr>\n",
       "      <th>499</th>\n",
       "      <td>500</td>\n",
       "      <td>2048</td>\n",
       "      <td>1</td>\n",
       "      <td>66.728309</td>\n",
       "      <td>29 Jun 2022 08:23:38 AM</td>\n",
       "    </tr>\n",
       "  </tbody>\n",
       "</table>\n",
       "</div>"
      ],
      "text/plain": [
       "      id  score  win  time_played_sec              date_played\n",
       "490  491   1024    0        66.830692  29 Jun 2022 08:14:02 AM\n",
       "491  492   2048    1        69.057199  29 Jun 2022 08:15:12 AM\n",
       "492  493   2048    1        68.627941  29 Jun 2022 08:16:21 AM\n",
       "493  494   1024    0        54.530487  29 Jun 2022 08:17:17 AM\n",
       "494  495   1024    0        65.225030  29 Jun 2022 08:18:23 AM\n",
       "495  496   2048    1        69.839370  29 Jun 2022 08:19:33 AM\n",
       "496  497   1024    0        68.122755  29 Jun 2022 08:20:43 AM\n",
       "497  498   1024    0        53.485373  29 Jun 2022 08:21:37 AM\n",
       "498  499   1024    0        52.089843  29 Jun 2022 08:22:30 AM\n",
       "499  500   2048    1        66.728309  29 Jun 2022 08:23:38 AM"
      ]
     },
     "execution_count": 8,
     "metadata": {},
     "output_type": "execute_result"
    }
   ],
   "source": [
    "df.tail(10)"
   ]
  },
  {
   "cell_type": "code",
   "execution_count": 9,
   "metadata": {},
   "outputs": [
    {
     "data": {
      "text/plain": [
       "440"
      ]
     },
     "execution_count": 9,
     "metadata": {},
     "output_type": "execute_result"
    }
   ],
   "source": [
    "len(df[df['score']>=1024])"
   ]
  },
  {
   "cell_type": "code",
   "execution_count": 10,
   "metadata": {},
   "outputs": [
    {
     "data": {
      "text/html": [
       "<div>\n",
       "<style scoped>\n",
       "    .dataframe tbody tr th:only-of-type {\n",
       "        vertical-align: middle;\n",
       "    }\n",
       "\n",
       "    .dataframe tbody tr th {\n",
       "        vertical-align: top;\n",
       "    }\n",
       "\n",
       "    .dataframe thead th {\n",
       "        text-align: right;\n",
       "    }\n",
       "</style>\n",
       "<table border=\"1\" class=\"dataframe\">\n",
       "  <thead>\n",
       "    <tr style=\"text-align: right;\">\n",
       "      <th></th>\n",
       "      <th>id</th>\n",
       "      <th>score</th>\n",
       "      <th>win</th>\n",
       "      <th>time_played_sec</th>\n",
       "      <th>date_played</th>\n",
       "    </tr>\n",
       "  </thead>\n",
       "  <tbody>\n",
       "    <tr>\n",
       "      <th>0</th>\n",
       "      <td>1</td>\n",
       "      <td>1024</td>\n",
       "      <td>0</td>\n",
       "      <td>68.574313</td>\n",
       "      <td>28 Jun 2022 11:45:28 PM</td>\n",
       "    </tr>\n",
       "    <tr>\n",
       "      <th>1</th>\n",
       "      <td>2</td>\n",
       "      <td>2048</td>\n",
       "      <td>1</td>\n",
       "      <td>69.399666</td>\n",
       "      <td>28 Jun 2022 11:46:38 PM</td>\n",
       "    </tr>\n",
       "    <tr>\n",
       "      <th>3</th>\n",
       "      <td>4</td>\n",
       "      <td>2048</td>\n",
       "      <td>1</td>\n",
       "      <td>67.006177</td>\n",
       "      <td>28 Jun 2022 11:48:23 PM</td>\n",
       "    </tr>\n",
       "    <tr>\n",
       "      <th>4</th>\n",
       "      <td>5</td>\n",
       "      <td>1024</td>\n",
       "      <td>0</td>\n",
       "      <td>67.183569</td>\n",
       "      <td>28 Jun 2022 11:49:31 PM</td>\n",
       "    </tr>\n",
       "    <tr>\n",
       "      <th>6</th>\n",
       "      <td>7</td>\n",
       "      <td>1024</td>\n",
       "      <td>0</td>\n",
       "      <td>65.865621</td>\n",
       "      <td>28 Jun 2022 11:51:15 PM</td>\n",
       "    </tr>\n",
       "    <tr>\n",
       "      <th>...</th>\n",
       "      <td>...</td>\n",
       "      <td>...</td>\n",
       "      <td>...</td>\n",
       "      <td>...</td>\n",
       "      <td>...</td>\n",
       "    </tr>\n",
       "    <tr>\n",
       "      <th>495</th>\n",
       "      <td>496</td>\n",
       "      <td>2048</td>\n",
       "      <td>1</td>\n",
       "      <td>69.839370</td>\n",
       "      <td>29 Jun 2022 08:19:33 AM</td>\n",
       "    </tr>\n",
       "    <tr>\n",
       "      <th>496</th>\n",
       "      <td>497</td>\n",
       "      <td>1024</td>\n",
       "      <td>0</td>\n",
       "      <td>68.122755</td>\n",
       "      <td>29 Jun 2022 08:20:43 AM</td>\n",
       "    </tr>\n",
       "    <tr>\n",
       "      <th>497</th>\n",
       "      <td>498</td>\n",
       "      <td>1024</td>\n",
       "      <td>0</td>\n",
       "      <td>53.485373</td>\n",
       "      <td>29 Jun 2022 08:21:37 AM</td>\n",
       "    </tr>\n",
       "    <tr>\n",
       "      <th>498</th>\n",
       "      <td>499</td>\n",
       "      <td>1024</td>\n",
       "      <td>0</td>\n",
       "      <td>52.089843</td>\n",
       "      <td>29 Jun 2022 08:22:30 AM</td>\n",
       "    </tr>\n",
       "    <tr>\n",
       "      <th>499</th>\n",
       "      <td>500</td>\n",
       "      <td>2048</td>\n",
       "      <td>1</td>\n",
       "      <td>66.728309</td>\n",
       "      <td>29 Jun 2022 08:23:38 AM</td>\n",
       "    </tr>\n",
       "  </tbody>\n",
       "</table>\n",
       "<p>440 rows × 5 columns</p>\n",
       "</div>"
      ],
      "text/plain": [
       "      id  score  win  time_played_sec              date_played\n",
       "0      1   1024    0        68.574313  28 Jun 2022 11:45:28 PM\n",
       "1      2   2048    1        69.399666  28 Jun 2022 11:46:38 PM\n",
       "3      4   2048    1        67.006177  28 Jun 2022 11:48:23 PM\n",
       "4      5   1024    0        67.183569  28 Jun 2022 11:49:31 PM\n",
       "6      7   1024    0        65.865621  28 Jun 2022 11:51:15 PM\n",
       "..   ...    ...  ...              ...                      ...\n",
       "495  496   2048    1        69.839370  29 Jun 2022 08:19:33 AM\n",
       "496  497   1024    0        68.122755  29 Jun 2022 08:20:43 AM\n",
       "497  498   1024    0        53.485373  29 Jun 2022 08:21:37 AM\n",
       "498  499   1024    0        52.089843  29 Jun 2022 08:22:30 AM\n",
       "499  500   2048    1        66.728309  29 Jun 2022 08:23:38 AM\n",
       "\n",
       "[440 rows x 5 columns]"
      ]
     },
     "execution_count": 10,
     "metadata": {},
     "output_type": "execute_result"
    }
   ],
   "source": [
    "df[df['score']>=1024]"
   ]
  },
  {
   "cell_type": "code",
   "execution_count": 11,
   "metadata": {},
   "outputs": [
    {
     "data": {
      "text/plain": [
       "61.41298767614364"
      ]
     },
     "execution_count": 11,
     "metadata": {},
     "output_type": "execute_result"
    }
   ],
   "source": [
    "df['time_played_sec'].mean()"
   ]
  },
  {
   "cell_type": "code",
   "execution_count": null,
   "metadata": {},
   "outputs": [],
   "source": []
  }
 ],
 "metadata": {
  "kernelspec": {
   "display_name": "Python 3 (ipykernel)",
   "language": "python",
   "name": "python3"
  },
  "language_info": {
   "codemirror_mode": {
    "name": "ipython",
    "version": 3
   },
   "file_extension": ".py",
   "mimetype": "text/x-python",
   "name": "python",
   "nbconvert_exporter": "python",
   "pygments_lexer": "ipython3",
   "version": "3.10.0"
  },
  "vscode": {
   "interpreter": {
    "hash": "7ee941c6eee7abd58bca1e8d62d0125231cec6a322dbdce97177f426017c7712"
   }
  }
 },
 "nbformat": 4,
 "nbformat_minor": 2
}
