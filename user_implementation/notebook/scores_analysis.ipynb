{
 "cells": [
  {
   "cell_type": "code",
   "execution_count": 24,
   "id": "2731bcd1",
   "metadata": {},
   "outputs": [],
   "source": [
    "'''\n",
    "scores_analysis.ipynb\n",
    "\n",
    "2048 GAME PROJECT: Simple analysis of the DB data using pandas.\n",
    "\n",
    "Date created:\n",
    "    04/2022\n",
    "\n",
    "Date edited:\n",
    "    06/2022\n",
    "\n",
    "Author:\n",
    "    Filip J. Cierkosz\n",
    "'''\n",
    "\n",
    "import pandas as pd\n",
    "import matplotlib.pyplot as plt\n",
    "import sqlite3"
   ]
  },
  {
   "cell_type": "code",
   "execution_count": 25,
   "id": "e1a1cf28",
   "metadata": {},
   "outputs": [
    {
     "data": {
      "text/html": [
       "\n",
       "<style>\n",
       ".output_png {\n",
       "    display: table-cell;\n",
       "    text-align: center;\n",
       "    vertical-align: middle;\n",
       "}\n",
       "</style>\n"
      ],
      "text/plain": [
       "<IPython.core.display.HTML object>"
      ]
     },
     "execution_count": 25,
     "metadata": {},
     "output_type": "execute_result"
    }
   ],
   "source": [
    "# Center all figures.\n",
    "from IPython.core.display import HTML\n",
    "HTML(\"\"\"\n",
    "<style>\n",
    ".output_png {\n",
    "    display: table-cell;\n",
    "    text-align: center;\n",
    "    vertical-align: middle;\n",
    "}\n",
    "</style>\n",
    "\"\"\")"
   ]
  },
  {
   "cell_type": "code",
   "execution_count": 26,
   "id": "1bcfb41a",
   "metadata": {},
   "outputs": [],
   "source": [
    "# Connect with the DB and create a pandas dataframe for this purpose.\n",
    "db = sqlite3.connect('../db/scores.db')\n",
    "df = pd.read_sql_query(\"SELECT * FROM scores\", db)"
   ]
  },
  {
   "cell_type": "code",
   "execution_count": 27,
   "id": "3dbf2ba9",
   "metadata": {},
   "outputs": [
    {
     "data": {
      "text/html": [
       "<div>\n",
       "<style scoped>\n",
       "    .dataframe tbody tr th:only-of-type {\n",
       "        vertical-align: middle;\n",
       "    }\n",
       "\n",
       "    .dataframe tbody tr th {\n",
       "        vertical-align: top;\n",
       "    }\n",
       "\n",
       "    .dataframe thead th {\n",
       "        text-align: right;\n",
       "    }\n",
       "</style>\n",
       "<table border=\"1\" class=\"dataframe\">\n",
       "  <thead>\n",
       "    <tr style=\"text-align: right;\">\n",
       "      <th></th>\n",
       "      <th>id</th>\n",
       "      <th>grid_size</th>\n",
       "      <th>score</th>\n",
       "      <th>time_played_sec</th>\n",
       "      <th>date_played</th>\n",
       "    </tr>\n",
       "  </thead>\n",
       "  <tbody>\n",
       "    <tr>\n",
       "      <th>0</th>\n",
       "      <td>0</td>\n",
       "      <td>3</td>\n",
       "      <td>8</td>\n",
       "      <td>2.498051</td>\n",
       "      <td>06 Mar 2022 09:35:18 PM</td>\n",
       "    </tr>\n",
       "    <tr>\n",
       "      <th>1</th>\n",
       "      <td>1</td>\n",
       "      <td>3</td>\n",
       "      <td>8</td>\n",
       "      <td>3.119032</td>\n",
       "      <td>06 Mar 2022 09:35:55 PM</td>\n",
       "    </tr>\n",
       "    <tr>\n",
       "      <th>2</th>\n",
       "      <td>2</td>\n",
       "      <td>3</td>\n",
       "      <td>32</td>\n",
       "      <td>37.503346</td>\n",
       "      <td>06 Mar 2022 09:36:42 PM</td>\n",
       "    </tr>\n",
       "  </tbody>\n",
       "</table>\n",
       "</div>"
      ],
      "text/plain": [
       "   id  grid_size  score  time_played_sec              date_played\n",
       "0   0          3      8         2.498051  06 Mar 2022 09:35:18 PM\n",
       "1   1          3      8         3.119032  06 Mar 2022 09:35:55 PM\n",
       "2   2          3     32        37.503346  06 Mar 2022 09:36:42 PM"
      ]
     },
     "execution_count": 27,
     "metadata": {},
     "output_type": "execute_result"
    }
   ],
   "source": [
    "# Display the first 3 records from the DB.\n",
    "df.head(3)"
   ]
  },
  {
   "cell_type": "code",
   "execution_count": 28,
   "id": "7997d9a4",
   "metadata": {},
   "outputs": [
    {
     "data": {
      "text/html": [
       "<div>\n",
       "<style scoped>\n",
       "    .dataframe tbody tr th:only-of-type {\n",
       "        vertical-align: middle;\n",
       "    }\n",
       "\n",
       "    .dataframe tbody tr th {\n",
       "        vertical-align: top;\n",
       "    }\n",
       "\n",
       "    .dataframe thead th {\n",
       "        text-align: right;\n",
       "    }\n",
       "</style>\n",
       "<table border=\"1\" class=\"dataframe\">\n",
       "  <thead>\n",
       "    <tr style=\"text-align: right;\">\n",
       "      <th></th>\n",
       "      <th>id</th>\n",
       "      <th>grid_size</th>\n",
       "      <th>score</th>\n",
       "      <th>time_played_sec</th>\n",
       "      <th>date_played</th>\n",
       "    </tr>\n",
       "  </thead>\n",
       "  <tbody>\n",
       "    <tr>\n",
       "      <th>163</th>\n",
       "      <td>163</td>\n",
       "      <td>3</td>\n",
       "      <td>8</td>\n",
       "      <td>3.814374</td>\n",
       "      <td>16 Jul 2022 11:57:38 AM</td>\n",
       "    </tr>\n",
       "    <tr>\n",
       "      <th>164</th>\n",
       "      <td>164</td>\n",
       "      <td>4</td>\n",
       "      <td>32</td>\n",
       "      <td>10.679899</td>\n",
       "      <td>29 Sep 2022 11:10:39 PM</td>\n",
       "    </tr>\n",
       "    <tr>\n",
       "      <th>165</th>\n",
       "      <td>165</td>\n",
       "      <td>3</td>\n",
       "      <td>64</td>\n",
       "      <td>99.678649</td>\n",
       "      <td>30 Sep 2022 09:47:44 AM</td>\n",
       "    </tr>\n",
       "  </tbody>\n",
       "</table>\n",
       "</div>"
      ],
      "text/plain": [
       "      id  grid_size  score  time_played_sec              date_played\n",
       "163  163          3      8         3.814374  16 Jul 2022 11:57:38 AM\n",
       "164  164          4     32        10.679899  29 Sep 2022 11:10:39 PM\n",
       "165  165          3     64        99.678649  30 Sep 2022 09:47:44 AM"
      ]
     },
     "execution_count": 28,
     "metadata": {},
     "output_type": "execute_result"
    }
   ],
   "source": [
    "# Display the last 3 records from the DB.\n",
    "df.tail(3)"
   ]
  },
  {
   "cell_type": "code",
   "execution_count": 29,
   "id": "27cffc37",
   "metadata": {},
   "outputs": [
    {
     "data": {
      "text/plain": [
       "147.3975903614458"
      ]
     },
     "execution_count": 29,
     "metadata": {},
     "output_type": "execute_result"
    }
   ],
   "source": [
    "# Calculate the mean for all grids.\n",
    "df['score'].mean()"
   ]
  },
  {
   "cell_type": "code",
   "execution_count": 30,
   "id": "bb956951",
   "metadata": {},
   "outputs": [
    {
     "data": {
      "text/plain": [
       "312.53333333333336"
      ]
     },
     "execution_count": 30,
     "metadata": {},
     "output_type": "execute_result"
    }
   ],
   "source": [
    "# Calculate the mean for 4x4 grid.\n",
    "df4x4 = df[df['grid_size']==4]\n",
    "df4x4['score'].mean()"
   ]
  },
  {
   "cell_type": "code",
   "execution_count": 31,
   "id": "59c51b3a",
   "metadata": {},
   "outputs": [
    {
     "data": {
      "text/plain": [
       "64"
      ]
     },
     "execution_count": 31,
     "metadata": {},
     "output_type": "execute_result"
    }
   ],
   "source": [
    "# Calculate the median score for all grids (as integer).\n",
    "df['score'].median().astype(int)"
   ]
  },
  {
   "cell_type": "code",
   "execution_count": 32,
   "id": "a307378d",
   "metadata": {},
   "outputs": [
    {
     "data": {
      "text/plain": [
       "32"
      ]
     },
     "execution_count": 32,
     "metadata": {},
     "output_type": "execute_result"
    }
   ],
   "source": [
    "# Calculate the median score for 3x3 grid.\n",
    "df3x3 = df[df['grid_size']==3]\n",
    "df3x3['score'].median().astype(int)"
   ]
  },
  {
   "cell_type": "code",
   "execution_count": 33,
   "id": "17c402ca",
   "metadata": {},
   "outputs": [
    {
     "data": {
      "text/plain": [
       "364.09006344198514"
      ]
     },
     "execution_count": 33,
     "metadata": {},
     "output_type": "execute_result"
    }
   ],
   "source": [
    "# Calculate the standard deviation for the results.\n",
    "df['score'].std()"
   ]
  },
  {
   "cell_type": "code",
   "execution_count": 34,
   "id": "884e763a",
   "metadata": {},
   "outputs": [
    {
     "data": {
      "text/plain": [
       "286.6554472786894"
      ]
     },
     "execution_count": 34,
     "metadata": {},
     "output_type": "execute_result"
    }
   ],
   "source": [
    "# Calculate the standard deviation for the 4x4 grid.\n",
    "df4x4 = df[df['grid_size']==4]\n",
    "df4x4['score'].std()"
   ]
  },
  {
   "cell_type": "code",
   "execution_count": 35,
   "id": "6b35b193",
   "metadata": {},
   "outputs": [
    {
     "data": {
      "text/plain": [
       "score\n",
       "32       45\n",
       "64       44\n",
       "16       17\n",
       "128      17\n",
       "256      13\n",
       "8        12\n",
       "512      12\n",
       "1024      4\n",
       "4         1\n",
       "4096      1\n",
       "dtype: int64"
      ]
     },
     "execution_count": 35,
     "metadata": {},
     "output_type": "execute_result"
    }
   ],
   "source": [
    "# Count occurrences of different scores.\n",
    "df.value_counts(['score'])"
   ]
  },
  {
   "cell_type": "code",
   "execution_count": 36,
   "id": "192a8e9e",
   "metadata": {},
   "outputs": [
    {
     "data": {
      "text/plain": [
       "score\n",
       "32       38\n",
       "64       38\n",
       "16       16\n",
       "128      14\n",
       "8        12\n",
       "4         1\n",
       "dtype: int64"
      ]
     },
     "execution_count": 36,
     "metadata": {},
     "output_type": "execute_result"
    }
   ],
   "source": [
    "# Count occurrences of different scores on 3x3 grid.\n",
    "df3x3 = df[df['grid_size']==3]\n",
    "df3x3.value_counts(['score'])"
   ]
  },
  {
   "cell_type": "code",
   "execution_count": 37,
   "id": "f20547a8",
   "metadata": {},
   "outputs": [
    {
     "data": {
      "text/plain": [
       "0    32\n",
       "Name: score, dtype: int64"
      ]
     },
     "execution_count": 37,
     "metadata": {},
     "output_type": "execute_result"
    }
   ],
   "source": [
    "# Get the mode for scores from all grids.\n",
    "df['score'].mode()"
   ]
  },
  {
   "cell_type": "code",
   "execution_count": 38,
   "id": "323b3de7",
   "metadata": {},
   "outputs": [
    {
     "data": {
      "text/plain": [
       "280.853"
      ]
     },
     "execution_count": 38,
     "metadata": {},
     "output_type": "execute_result"
    }
   ],
   "source": [
    "# Get the average game time (seconds, 3 decimal places).\n",
    "df['time_played_sec'].mean().round(decimals=3)"
   ]
  },
  {
   "cell_type": "code",
   "execution_count": 39,
   "id": "26689109",
   "metadata": {},
   "outputs": [
    {
     "data": {
      "text/html": [
       "<div>\n",
       "<style scoped>\n",
       "    .dataframe tbody tr th:only-of-type {\n",
       "        vertical-align: middle;\n",
       "    }\n",
       "\n",
       "    .dataframe tbody tr th {\n",
       "        vertical-align: top;\n",
       "    }\n",
       "\n",
       "    .dataframe thead th {\n",
       "        text-align: right;\n",
       "    }\n",
       "</style>\n",
       "<table border=\"1\" class=\"dataframe\">\n",
       "  <thead>\n",
       "    <tr style=\"text-align: right;\">\n",
       "      <th></th>\n",
       "      <th>score</th>\n",
       "      <th>grid_size</th>\n",
       "      <th>time_played_sec</th>\n",
       "    </tr>\n",
       "  </thead>\n",
       "  <tbody>\n",
       "    <tr>\n",
       "      <th>count</th>\n",
       "      <td>166.000000</td>\n",
       "      <td>166.000000</td>\n",
       "      <td>166.000000</td>\n",
       "    </tr>\n",
       "    <tr>\n",
       "      <th>mean</th>\n",
       "      <td>147.397590</td>\n",
       "      <td>3.301205</td>\n",
       "      <td>280.852908</td>\n",
       "    </tr>\n",
       "    <tr>\n",
       "      <th>std</th>\n",
       "      <td>364.090063</td>\n",
       "      <td>0.510138</td>\n",
       "      <td>1088.026668</td>\n",
       "    </tr>\n",
       "    <tr>\n",
       "      <th>min</th>\n",
       "      <td>4.000000</td>\n",
       "      <td>3.000000</td>\n",
       "      <td>2.106998</td>\n",
       "    </tr>\n",
       "    <tr>\n",
       "      <th>25%</th>\n",
       "      <td>32.000000</td>\n",
       "      <td>3.000000</td>\n",
       "      <td>31.607994</td>\n",
       "    </tr>\n",
       "    <tr>\n",
       "      <th>50%</th>\n",
       "      <td>64.000000</td>\n",
       "      <td>3.000000</td>\n",
       "      <td>70.466374</td>\n",
       "    </tr>\n",
       "    <tr>\n",
       "      <th>75%</th>\n",
       "      <td>128.000000</td>\n",
       "      <td>4.000000</td>\n",
       "      <td>164.110047</td>\n",
       "    </tr>\n",
       "    <tr>\n",
       "      <th>max</th>\n",
       "      <td>4096.000000</td>\n",
       "      <td>6.000000</td>\n",
       "      <td>13448.302297</td>\n",
       "    </tr>\n",
       "  </tbody>\n",
       "</table>\n",
       "</div>"
      ],
      "text/plain": [
       "             score   grid_size  time_played_sec\n",
       "count   166.000000  166.000000       166.000000\n",
       "mean    147.397590    3.301205       280.852908\n",
       "std     364.090063    0.510138      1088.026668\n",
       "min       4.000000    3.000000         2.106998\n",
       "25%      32.000000    3.000000        31.607994\n",
       "50%      64.000000    3.000000        70.466374\n",
       "75%     128.000000    4.000000       164.110047\n",
       "max    4096.000000    6.000000     13448.302297"
      ]
     },
     "execution_count": 39,
     "metadata": {},
     "output_type": "execute_result"
    }
   ],
   "source": [
    "# Describe the dataset (excluding the 'id' column, as it would be meaningless).\n",
    "fields = set(df.columns)-{'id'}\n",
    "df_desc = df[list(fields)]\n",
    "df_desc.describe()"
   ]
  },
  {
   "cell_type": "code",
   "execution_count": 40,
   "id": "50e6ce96",
   "metadata": {},
   "outputs": [
    {
     "data": {
      "image/png": "[encoded data removed]",
      "text/plain": [
       "<Figure size 640x480 with 1 Axes>"
      ]
     },
     "metadata": {},
     "output_type": "display_data"
    }
   ],
   "source": [
    "# Plot the diagram showing average scores on different grids.\n",
    "data = {\n",
    "    'Grid Size':[3,4,5,6],\n",
    "    'Average Score':[\n",
    "                        df[df['grid_size']==3]['score'].mean(),\n",
    "                        df[df['grid_size']==4]['score'].mean(),\n",
    "                        df[df['grid_size']==5]['score'].mean(),\n",
    "                        df[df['grid_size']==6]['score'].mean()\n",
    "                    ]\n",
    "}\n",
    "df_sc = pd.DataFrame(data, columns=['Grid Size','Average Score'])\n",
    "df_sc.plot(x='Grid Size', y='Average Score', kind='bar', color='green')\n",
    "plt.show()"
   ]
  },
  {
   "cell_type": "code",
   "execution_count": 41,
   "id": "996bb2d8",
   "metadata": {},
   "outputs": [
    {
     "data": {
      "image/png": "[encoded data removed]",
      "text/plain": [
       "<Figure size 640x480 with 1 Axes>"
      ]
     },
     "metadata": {},
     "output_type": "display_data"
    }
   ],
   "source": [
    "# Plot the diagram showing average time played on different grids.\n",
    "data = {\n",
    "    'Grid Size':[3,4,5,6],\n",
    "    'Average Time Played (sec)':[\n",
    "                        df[df['grid_size']==3]['time_played_sec'].mean(),\n",
    "                        df[df['grid_size']==4]['time_played_sec'].mean(),\n",
    "                        df[df['grid_size']==5]['time_played_sec'].mean(),\n",
    "                        df[df['grid_size']==6]['time_played_sec'].mean()\n",
    "                    ]\n",
    "}\n",
    "df_sc = pd.DataFrame(data,columns=['Grid Size','Average Time Played (sec)'])\n",
    "df_sc.plot(x='Grid Size', y='Average Time Played (sec)', kind='bar',color='red')\n",
    "plt.show()"
   ]
  },
  {
   "cell_type": "code",
   "execution_count": 42,
   "id": "a633fde4",
   "metadata": {},
   "outputs": [
    {
     "data": {
      "image/png": "[encoded data removed]",
      "text/plain": [
       "<Figure size 640x480 with 1 Axes>"
      ]
     },
     "metadata": {},
     "output_type": "display_data"
    }
   ],
   "source": [
    "# Determine which grid is mostly used for games and represent it on a graph.\n",
    "data_dict = df['grid_size'].value_counts().to_dict()\n",
    "data = {\n",
    "    'Grid Size':data_dict.keys(),\n",
    "    'Games Played':data_dict.values()\n",
    "}\n",
    "df_sc = pd.DataFrame(data,columns=['Grid Size','Games Played'])\n",
    "df_sc.plot(x='Grid Size', y='Games Played', kind='bar',color='purple')\n",
    "plt.show()"
   ]
  },
  {
   "cell_type": "code",
   "execution_count": 43,
   "id": "5cfd07e9",
   "metadata": {},
   "outputs": [
    {
     "data": {
      "text/plain": [
       "<AxesSubplot: title={'center': 'score'}, xlabel='grid_size'>"
      ]
     },
     "execution_count": 43,
     "metadata": {},
     "output_type": "execute_result"
    },
    {
     "data": {
      "image/png": "[encoded data removed]",
      "text/plain": [
       "<Figure size 640x480 with 1 Axes>"
      ]
     },
     "metadata": {},
     "output_type": "display_data"
    }
   ],
   "source": [
    "df.boxplot(by ='grid_size', column =['score'], color='black')"
   ]
  },
  {
   "cell_type": "code",
   "execution_count": 44,
   "id": "e76c6e0f",
   "metadata": {},
   "outputs": [
    {
     "data": {
      "image/png": "[encoded data removed]",
      "text/plain": [
       "<Figure size 640x480 with 1 Axes>"
      ]
     },
     "metadata": {},
     "output_type": "display_data"
    }
   ],
   "source": [
    "# Scatter diagram.\n",
    "colors = {3:'red',4:'green',5:'blue',6:'brown'}\n",
    "df['colors'] = df['grid_size'].map(colors)\n",
    "df.plot.scatter(x='grid_size',y='score',color=df['colors']);"
   ]
  },
  {
   "cell_type": "code",
   "execution_count": 45,
   "id": "4403b67f",
   "metadata": {},
   "outputs": [
    {
     "data": {
      "image/png": "[encoded data removed]",
      "text/plain": [
       "<Figure size 640x480 with 1 Axes>"
      ]
     },
     "metadata": {},
     "output_type": "display_data"
    }
   ],
   "source": [
    "# Scatter diagram showing the relation between time played and obtained score for 4x4 grid.\n",
    "df4x4 = df[df['grid_size']==4]\n",
    "df4x4.plot.scatter(x='time_played_sec',y='score',color='red');"
   ]
  },
  {
   "cell_type": "code",
   "execution_count": 46,
   "id": "1063cefc",
   "metadata": {},
   "outputs": [
    {
     "data": {
      "text/html": [
       "<div>\n",
       "<style scoped>\n",
       "    .dataframe tbody tr th:only-of-type {\n",
       "        vertical-align: middle;\n",
       "    }\n",
       "\n",
       "    .dataframe tbody tr th {\n",
       "        vertical-align: top;\n",
       "    }\n",
       "\n",
       "    .dataframe thead th {\n",
       "        text-align: right;\n",
       "    }\n",
       "</style>\n",
       "<table border=\"1\" class=\"dataframe\">\n",
       "  <thead>\n",
       "    <tr style=\"text-align: right;\">\n",
       "      <th></th>\n",
       "      <th>id</th>\n",
       "      <th>grid_size</th>\n",
       "      <th>score</th>\n",
       "      <th>time_played_sec</th>\n",
       "      <th>date_played</th>\n",
       "    </tr>\n",
       "  </thead>\n",
       "  <tbody>\n",
       "    <tr>\n",
       "      <th>0</th>\n",
       "      <td>0</td>\n",
       "      <td>3</td>\n",
       "      <td>8</td>\n",
       "      <td>2.498051</td>\n",
       "      <td>06 Mar 2022 09:35:18 PM</td>\n",
       "    </tr>\n",
       "    <tr>\n",
       "      <th>1</th>\n",
       "      <td>1</td>\n",
       "      <td>3</td>\n",
       "      <td>8</td>\n",
       "      <td>3.119032</td>\n",
       "      <td>06 Mar 2022 09:35:55 PM</td>\n",
       "    </tr>\n",
       "    <tr>\n",
       "      <th>2</th>\n",
       "      <td>2</td>\n",
       "      <td>3</td>\n",
       "      <td>32</td>\n",
       "      <td>37.503346</td>\n",
       "      <td>06 Mar 2022 09:36:42 PM</td>\n",
       "    </tr>\n",
       "    <tr>\n",
       "      <th>3</th>\n",
       "      <td>3</td>\n",
       "      <td>3</td>\n",
       "      <td>4</td>\n",
       "      <td>3.539565</td>\n",
       "      <td>06 Mar 2022 09:36:58 PM</td>\n",
       "    </tr>\n",
       "    <tr>\n",
       "      <th>6</th>\n",
       "      <td>6</td>\n",
       "      <td>3</td>\n",
       "      <td>8</td>\n",
       "      <td>3.330225</td>\n",
       "      <td>06 Mar 2022 10:59:43 PM</td>\n",
       "    </tr>\n",
       "    <tr>\n",
       "      <th>...</th>\n",
       "      <td>...</td>\n",
       "      <td>...</td>\n",
       "      <td>...</td>\n",
       "      <td>...</td>\n",
       "      <td>...</td>\n",
       "    </tr>\n",
       "    <tr>\n",
       "      <th>160</th>\n",
       "      <td>160</td>\n",
       "      <td>3</td>\n",
       "      <td>16</td>\n",
       "      <td>4.558628</td>\n",
       "      <td>09 Jul 2022 01:10:19 PM</td>\n",
       "    </tr>\n",
       "    <tr>\n",
       "      <th>161</th>\n",
       "      <td>161</td>\n",
       "      <td>3</td>\n",
       "      <td>16</td>\n",
       "      <td>21.898466</td>\n",
       "      <td>09 Jul 2022 01:10:47 PM</td>\n",
       "    </tr>\n",
       "    <tr>\n",
       "      <th>162</th>\n",
       "      <td>162</td>\n",
       "      <td>3</td>\n",
       "      <td>32</td>\n",
       "      <td>4.227359</td>\n",
       "      <td>16 Jul 2022 11:56:01 AM</td>\n",
       "    </tr>\n",
       "    <tr>\n",
       "      <th>163</th>\n",
       "      <td>163</td>\n",
       "      <td>3</td>\n",
       "      <td>8</td>\n",
       "      <td>3.814374</td>\n",
       "      <td>16 Jul 2022 11:57:38 AM</td>\n",
       "    </tr>\n",
       "    <tr>\n",
       "      <th>165</th>\n",
       "      <td>165</td>\n",
       "      <td>3</td>\n",
       "      <td>64</td>\n",
       "      <td>99.678649</td>\n",
       "      <td>30 Sep 2022 09:47:44 AM</td>\n",
       "    </tr>\n",
       "  </tbody>\n",
       "</table>\n",
       "<p>119 rows × 5 columns</p>\n",
       "</div>"
      ],
      "text/plain": [
       "      id  grid_size  score  time_played_sec              date_played\n",
       "0      0          3      8         2.498051  06 Mar 2022 09:35:18 PM\n",
       "1      1          3      8         3.119032  06 Mar 2022 09:35:55 PM\n",
       "2      2          3     32        37.503346  06 Mar 2022 09:36:42 PM\n",
       "3      3          3      4         3.539565  06 Mar 2022 09:36:58 PM\n",
       "6      6          3      8         3.330225  06 Mar 2022 10:59:43 PM\n",
       "..   ...        ...    ...              ...                      ...\n",
       "160  160          3     16         4.558628  09 Jul 2022 01:10:19 PM\n",
       "161  161          3     16        21.898466  09 Jul 2022 01:10:47 PM\n",
       "162  162          3     32         4.227359  16 Jul 2022 11:56:01 AM\n",
       "163  163          3      8         3.814374  16 Jul 2022 11:57:38 AM\n",
       "165  165          3     64        99.678649  30 Sep 2022 09:47:44 AM\n",
       "\n",
       "[119 rows x 5 columns]"
      ]
     },
     "execution_count": 46,
     "metadata": {},
     "output_type": "execute_result"
    }
   ],
   "source": [
    "# Display only the records where the grid size is equal to 3 (exclude the column describing colors).\n",
    "df3x3 = df[df['grid_size']==3]\n",
    "df3x3.loc[:, df.columns!='colors']"
   ]
  },
  {
   "cell_type": "code",
   "execution_count": null,
   "id": "91f56421",
   "metadata": {},
   "outputs": [],
   "source": []
  }
 ],
 "metadata": {
  "interpreter": {
   "hash": "7ee941c6eee7abd58bca1e8d62d0125231cec6a322dbdce97177f426017c7712"
  },
  "kernelspec": {
   "display_name": "Python 3 (ipykernel)",
   "language": "python",
   "name": "python3"
  },
  "language_info": {
   "codemirror_mode": {
    "name": "ipython",
    "version": 3
   },
   "file_extension": ".py",
   "mimetype": "text/x-python",
   "name": "python",
   "nbconvert_exporter": "python",
   "pygments_lexer": "ipython3",
   "version": "3.10.0"
  }
 },
 "nbformat": 4,
 "nbformat_minor": 5
}
