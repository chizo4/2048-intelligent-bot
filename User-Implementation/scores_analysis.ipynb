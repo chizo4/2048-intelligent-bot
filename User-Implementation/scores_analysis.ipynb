{
 "cells": [
  {
   "cell_type": "code",
   "execution_count": 1,
   "id": "2731bcd1",
   "metadata": {},
   "outputs": [],
   "source": [
    "'''\n",
    "2048 GAME PROJECT: Simple analysis of the DB data using pandas.\n",
    "\n",
    "Date created:\n",
    "    04/2022\n",
    "\n",
    "Author:\n",
    "    Filip J. Cierkosz\n",
    "'''\n",
    "\n",
    "import pandas as pd\n",
    "import matplotlib.pyplot as plt\n",
    "import sqlite3"
   ]
  },
  {
   "cell_type": "code",
   "execution_count": 2,
   "id": "1bcfb41a",
   "metadata": {},
   "outputs": [],
   "source": [
    "# Connect with the DB and create a pandas dataframe for this purpose.\n",
    "db = sqlite3.connect('./scores.db')\n",
    "df = pd.read_sql_query(\"SELECT * FROM scores\", db)"
   ]
  },
  {
   "cell_type": "code",
   "execution_count": 3,
   "id": "3dbf2ba9",
   "metadata": {},
   "outputs": [
    {
     "data": {
      "text/html": [
       "<div>\n",
       "<style scoped>\n",
       "    .dataframe tbody tr th:only-of-type {\n",
       "        vertical-align: middle;\n",
       "    }\n",
       "\n",
       "    .dataframe tbody tr th {\n",
       "        vertical-align: top;\n",
       "    }\n",
       "\n",
       "    .dataframe thead th {\n",
       "        text-align: right;\n",
       "    }\n",
       "</style>\n",
       "<table border=\"1\" class=\"dataframe\">\n",
       "  <thead>\n",
       "    <tr style=\"text-align: right;\">\n",
       "      <th></th>\n",
       "      <th>id</th>\n",
       "      <th>grid_size</th>\n",
       "      <th>score</th>\n",
       "      <th>time_played_sec</th>\n",
       "      <th>date_played</th>\n",
       "    </tr>\n",
       "  </thead>\n",
       "  <tbody>\n",
       "    <tr>\n",
       "      <th>0</th>\n",
       "      <td>0</td>\n",
       "      <td>3</td>\n",
       "      <td>8</td>\n",
       "      <td>2.498051</td>\n",
       "      <td>06 Mar 2022 09:35:18 PM</td>\n",
       "    </tr>\n",
       "    <tr>\n",
       "      <th>1</th>\n",
       "      <td>1</td>\n",
       "      <td>3</td>\n",
       "      <td>8</td>\n",
       "      <td>3.119032</td>\n",
       "      <td>06 Mar 2022 09:35:55 PM</td>\n",
       "    </tr>\n",
       "    <tr>\n",
       "      <th>2</th>\n",
       "      <td>2</td>\n",
       "      <td>3</td>\n",
       "      <td>32</td>\n",
       "      <td>37.503346</td>\n",
       "      <td>06 Mar 2022 09:36:42 PM</td>\n",
       "    </tr>\n",
       "  </tbody>\n",
       "</table>\n",
       "</div>"
      ],
      "text/plain": [
       "   id  grid_size  score  time_played_sec              date_played\n",
       "0   0          3      8         2.498051  06 Mar 2022 09:35:18 PM\n",
       "1   1          3      8         3.119032  06 Mar 2022 09:35:55 PM\n",
       "2   2          3     32        37.503346  06 Mar 2022 09:36:42 PM"
      ]
     },
     "execution_count": 3,
     "metadata": {},
     "output_type": "execute_result"
    }
   ],
   "source": [
    "# Display the first 3 records from the DB.\n",
    "df.head(3)"
   ]
  },
  {
   "cell_type": "code",
   "execution_count": 4,
   "id": "7997d9a4",
   "metadata": {},
   "outputs": [
    {
     "data": {
      "text/html": [
       "<div>\n",
       "<style scoped>\n",
       "    .dataframe tbody tr th:only-of-type {\n",
       "        vertical-align: middle;\n",
       "    }\n",
       "\n",
       "    .dataframe tbody tr th {\n",
       "        vertical-align: top;\n",
       "    }\n",
       "\n",
       "    .dataframe thead th {\n",
       "        text-align: right;\n",
       "    }\n",
       "</style>\n",
       "<table border=\"1\" class=\"dataframe\">\n",
       "  <thead>\n",
       "    <tr style=\"text-align: right;\">\n",
       "      <th></th>\n",
       "      <th>id</th>\n",
       "      <th>grid_size</th>\n",
       "      <th>score</th>\n",
       "      <th>time_played_sec</th>\n",
       "      <th>date_played</th>\n",
       "    </tr>\n",
       "  </thead>\n",
       "  <tbody>\n",
       "    <tr>\n",
       "      <th>126</th>\n",
       "      <td>126</td>\n",
       "      <td>3</td>\n",
       "      <td>32</td>\n",
       "      <td>25.108271</td>\n",
       "      <td>20 May 2022 01:08:04 PM</td>\n",
       "    </tr>\n",
       "    <tr>\n",
       "      <th>127</th>\n",
       "      <td>127</td>\n",
       "      <td>4</td>\n",
       "      <td>128</td>\n",
       "      <td>122.831996</td>\n",
       "      <td>27 May 2022 09:21:48 PM</td>\n",
       "    </tr>\n",
       "    <tr>\n",
       "      <th>128</th>\n",
       "      <td>128</td>\n",
       "      <td>4</td>\n",
       "      <td>256</td>\n",
       "      <td>379.599370</td>\n",
       "      <td>29 May 2022 09:58:37 PM</td>\n",
       "    </tr>\n",
       "  </tbody>\n",
       "</table>\n",
       "</div>"
      ],
      "text/plain": [
       "      id  grid_size  score  time_played_sec              date_played\n",
       "126  126          3     32        25.108271  20 May 2022 01:08:04 PM\n",
       "127  127          4    128       122.831996  27 May 2022 09:21:48 PM\n",
       "128  128          4    256       379.599370  29 May 2022 09:58:37 PM"
      ]
     },
     "execution_count": 4,
     "metadata": {},
     "output_type": "execute_result"
    }
   ],
   "source": [
    "# Display the last 3 records from the DB.\n",
    "df.tail(3)"
   ]
  },
  {
   "cell_type": "code",
   "execution_count": 5,
   "id": "27cffc37",
   "metadata": {},
   "outputs": [
    {
     "data": {
      "text/plain": [
       "145.33333333333334"
      ]
     },
     "execution_count": 5,
     "metadata": {},
     "output_type": "execute_result"
    }
   ],
   "source": [
    "# Calculate the mean for all grids.\n",
    "df['score'].mean()"
   ]
  },
  {
   "cell_type": "code",
   "execution_count": 6,
   "id": "bb956951",
   "metadata": {},
   "outputs": [
    {
     "data": {
      "text/plain": [
       "299.73333333333335"
      ]
     },
     "execution_count": 6,
     "metadata": {},
     "output_type": "execute_result"
    }
   ],
   "source": [
    "# Calculate the mean for 4x4 grid.\n",
    "df4x4 = df[df['grid_size']==4]\n",
    "df4x4['score'].mean()"
   ]
  },
  {
   "cell_type": "code",
   "execution_count": 7,
   "id": "59c51b3a",
   "metadata": {},
   "outputs": [
    {
     "data": {
      "text/plain": [
       "64"
      ]
     },
     "execution_count": 7,
     "metadata": {},
     "output_type": "execute_result"
    }
   ],
   "source": [
    "# Calculate the median score for all grids (as integer).\n",
    "df['score'].median().astype(int)"
   ]
  },
  {
   "cell_type": "code",
   "execution_count": 8,
   "id": "a307378d",
   "metadata": {},
   "outputs": [
    {
     "data": {
      "text/plain": [
       "32"
      ]
     },
     "execution_count": 8,
     "metadata": {},
     "output_type": "execute_result"
    }
   ],
   "source": [
    "# Calculate the median score for 3x3 grid.\n",
    "df3x3 = df[df['grid_size']==3]\n",
    "df3x3['score'].median().astype(int)"
   ]
  },
  {
   "cell_type": "code",
   "execution_count": 9,
   "id": "17c402ca",
   "metadata": {},
   "outputs": [
    {
     "data": {
      "text/plain": [
       "390.3739660035404"
      ]
     },
     "execution_count": 9,
     "metadata": {},
     "output_type": "execute_result"
    }
   ],
   "source": [
    "# Calculate the standard deviation for the results.\n",
    "df['score'].std()"
   ]
  },
  {
   "cell_type": "code",
   "execution_count": 10,
   "id": "884e763a",
   "metadata": {},
   "outputs": [
    {
     "data": {
      "text/plain": [
       "268.7163526116703"
      ]
     },
     "execution_count": 10,
     "metadata": {},
     "output_type": "execute_result"
    }
   ],
   "source": [
    "# Calculate the standard deviation for the 4x4 grid.\n",
    "df4x4 = df[df['grid_size']==4]\n",
    "df4x4['score'].std()"
   ]
  },
  {
   "cell_type": "code",
   "execution_count": 11,
   "id": "6b35b193",
   "metadata": {},
   "outputs": [
    {
     "data": {
      "text/plain": [
       "score\n",
       "64       38\n",
       "32       35\n",
       "128      17\n",
       "8         9\n",
       "16        9\n",
       "512       9\n",
       "256       8\n",
       "1024      2\n",
       "4         1\n",
       "4096      1\n",
       "dtype: int64"
      ]
     },
     "execution_count": 11,
     "metadata": {},
     "output_type": "execute_result"
    }
   ],
   "source": [
    "# Count occurrences of different scores.\n",
    "df.value_counts(['score'])"
   ]
  },
  {
   "cell_type": "code",
   "execution_count": 12,
   "id": "192a8e9e",
   "metadata": {},
   "outputs": [
    {
     "data": {
      "text/plain": [
       "score\n",
       "64       34\n",
       "32       30\n",
       "128      14\n",
       "8         9\n",
       "16        9\n",
       "4         1\n",
       "dtype: int64"
      ]
     },
     "execution_count": 12,
     "metadata": {},
     "output_type": "execute_result"
    }
   ],
   "source": [
    "# Count occurrences of different scores on 3x3 grid.\n",
    "df3x3 = df[df['grid_size']==3]\n",
    "df3x3.value_counts(['score'])"
   ]
  },
  {
   "cell_type": "code",
   "execution_count": 13,
   "id": "f20547a8",
   "metadata": {},
   "outputs": [
    {
     "data": {
      "text/plain": [
       "0    64\n",
       "Name: score, dtype: int64"
      ]
     },
     "execution_count": 13,
     "metadata": {},
     "output_type": "execute_result"
    }
   ],
   "source": [
    "# Get the mode for scores from all grids.\n",
    "df['score'].mode()"
   ]
  },
  {
   "cell_type": "code",
   "execution_count": 14,
   "id": "323b3de7",
   "metadata": {},
   "outputs": [
    {
     "data": {
      "text/plain": [
       "300.785"
      ]
     },
     "execution_count": 14,
     "metadata": {},
     "output_type": "execute_result"
    }
   ],
   "source": [
    "# Get the average game time (seconds, 3 decimal places).\n",
    "df['time_played_sec'].mean().round(decimals=3)"
   ]
  },
  {
   "cell_type": "code",
   "execution_count": 15,
   "id": "26689109",
   "metadata": {},
   "outputs": [
    {
     "data": {
      "text/html": [
       "<div>\n",
       "<style scoped>\n",
       "    .dataframe tbody tr th:only-of-type {\n",
       "        vertical-align: middle;\n",
       "    }\n",
       "\n",
       "    .dataframe tbody tr th {\n",
       "        vertical-align: top;\n",
       "    }\n",
       "\n",
       "    .dataframe thead th {\n",
       "        text-align: right;\n",
       "    }\n",
       "</style>\n",
       "<table border=\"1\" class=\"dataframe\">\n",
       "  <thead>\n",
       "    <tr style=\"text-align: right;\">\n",
       "      <th></th>\n",
       "      <th>score</th>\n",
       "      <th>time_played_sec</th>\n",
       "      <th>grid_size</th>\n",
       "    </tr>\n",
       "  </thead>\n",
       "  <tbody>\n",
       "    <tr>\n",
       "      <th>count</th>\n",
       "      <td>129.000000</td>\n",
       "      <td>129.000000</td>\n",
       "      <td>129.000000</td>\n",
       "    </tr>\n",
       "    <tr>\n",
       "      <th>mean</th>\n",
       "      <td>145.333333</td>\n",
       "      <td>300.784970</td>\n",
       "      <td>3.271318</td>\n",
       "    </tr>\n",
       "    <tr>\n",
       "      <th>std</th>\n",
       "      <td>390.373966</td>\n",
       "      <td>1218.281305</td>\n",
       "      <td>0.511614</td>\n",
       "    </tr>\n",
       "    <tr>\n",
       "      <th>min</th>\n",
       "      <td>4.000000</td>\n",
       "      <td>2.106998</td>\n",
       "      <td>3.000000</td>\n",
       "    </tr>\n",
       "    <tr>\n",
       "      <th>25%</th>\n",
       "      <td>32.000000</td>\n",
       "      <td>39.745141</td>\n",
       "      <td>3.000000</td>\n",
       "    </tr>\n",
       "    <tr>\n",
       "      <th>50%</th>\n",
       "      <td>64.000000</td>\n",
       "      <td>74.805979</td>\n",
       "      <td>3.000000</td>\n",
       "    </tr>\n",
       "    <tr>\n",
       "      <th>75%</th>\n",
       "      <td>128.000000</td>\n",
       "      <td>144.837304</td>\n",
       "      <td>3.000000</td>\n",
       "    </tr>\n",
       "    <tr>\n",
       "      <th>max</th>\n",
       "      <td>4096.000000</td>\n",
       "      <td>13448.302297</td>\n",
       "      <td>6.000000</td>\n",
       "    </tr>\n",
       "  </tbody>\n",
       "</table>\n",
       "</div>"
      ],
      "text/plain": [
       "             score  time_played_sec   grid_size\n",
       "count   129.000000       129.000000  129.000000\n",
       "mean    145.333333       300.784970    3.271318\n",
       "std     390.373966      1218.281305    0.511614\n",
       "min       4.000000         2.106998    3.000000\n",
       "25%      32.000000        39.745141    3.000000\n",
       "50%      64.000000        74.805979    3.000000\n",
       "75%     128.000000       144.837304    3.000000\n",
       "max    4096.000000     13448.302297    6.000000"
      ]
     },
     "execution_count": 15,
     "metadata": {},
     "output_type": "execute_result"
    }
   ],
   "source": [
    "# Describe the dataset (excluding the 'id' column, as it would be meaningless).\n",
    "fields = set(df.columns)-{'id'}\n",
    "df_desc = df[list(fields)]\n",
    "df_desc.describe()"
   ]
  },
  {
   "cell_type": "code",
   "execution_count": 16,
   "id": "50e6ce96",
   "metadata": {},
   "outputs": [
    {
     "data": {
      "image/png": "[encoded data removed]",
      "text/plain": [
       "<Figure size 432x288 with 1 Axes>"
      ]
     },
     "metadata": {
      "needs_background": "light"
     },
     "output_type": "display_data"
    }
   ],
   "source": [
    "# Plot the diagram showing average scores on different grids.\n",
    "data = {\n",
    "    'Grid Size':[3,4,5,6],\n",
    "    'Average Score':[\n",
    "                        df[df['grid_size']==3]['score'].mean(),\n",
    "                        df[df['grid_size']==4]['score'].mean(),\n",
    "                        df[df['grid_size']==5]['score'].mean(),\n",
    "                        df[df['grid_size']==6]['score'].mean()\n",
    "                    ]\n",
    "}\n",
    "df_sc = pd.DataFrame(data, columns=['Grid Size','Average Score'])\n",
    "df_sc.plot(x='Grid Size', y='Average Score', kind='bar', color='green')\n",
    "plt.show()"
   ]
  },
  {
   "cell_type": "code",
   "execution_count": 17,
   "id": "996bb2d8",
   "metadata": {},
   "outputs": [
    {
     "data": {
      "image/png": "[encoded data removed]",
      "text/plain": [
       "<Figure size 432x288 with 1 Axes>"
      ]
     },
     "metadata": {
      "needs_background": "light"
     },
     "output_type": "display_data"
    }
   ],
   "source": [
    "# Plot the diagram showing average time played on different grids.\n",
    "data = {\n",
    "    'Grid Size':[3,4,5,6],\n",
    "    'Average Time Played (sec)':[\n",
    "                        df[df['grid_size']==3]['time_played_sec'].mean(),\n",
    "                        df[df['grid_size']==4]['time_played_sec'].mean(),\n",
    "                        df[df['grid_size']==5]['time_played_sec'].mean(),\n",
    "                        df[df['grid_size']==6]['time_played_sec'].mean()\n",
    "                    ]\n",
    "}\n",
    "df_sc = pd.DataFrame(data,columns=['Grid Size','Average Time Played (sec)'])\n",
    "df_sc.plot(x='Grid Size', y='Average Time Played (sec)', kind='bar',color='red')\n",
    "plt.show()"
   ]
  },
  {
   "cell_type": "code",
   "execution_count": 18,
   "id": "a633fde4",
   "metadata": {},
   "outputs": [
    {
     "data": {
      "image/png": "[encoded data removed]",
      "text/plain": [
       "<Figure size 432x288 with 1 Axes>"
      ]
     },
     "metadata": {
      "needs_background": "light"
     },
     "output_type": "display_data"
    }
   ],
   "source": [
    "# Determine which grid is mostly used for games and represent it on a graph.\n",
    "data_dict = df['grid_size'].value_counts().to_dict()\n",
    "data = {\n",
    "    'Grid Size':data_dict.keys(),\n",
    "    'Games Played':data_dict.values()\n",
    "}\n",
    "df_sc = pd.DataFrame(data,columns=['Grid Size','Games Played'])\n",
    "df_sc.plot(x='Grid Size', y='Games Played', kind='bar',color='purple')\n",
    "plt.show()"
   ]
  },
  {
   "cell_type": "code",
   "execution_count": 19,
   "id": "5cfd07e9",
   "metadata": {},
   "outputs": [
    {
     "data": {
      "text/plain": [
       "<AxesSubplot:title={'center':'score'}, xlabel='grid_size'>"
      ]
     },
     "execution_count": 19,
     "metadata": {},
     "output_type": "execute_result"
    },
    {
     "data": {
      "image/png": "[encoded data removed]",
      "text/plain": [
       "<Figure size 432x288 with 1 Axes>"
      ]
     },
     "metadata": {
      "needs_background": "light"
     },
     "output_type": "display_data"
    }
   ],
   "source": [
    "df.boxplot(by ='grid_size', column =['score'], color='black')"
   ]
  },
  {
   "cell_type": "code",
   "execution_count": 20,
   "id": "e76c6e0f",
   "metadata": {},
   "outputs": [
    {
     "data": {
      "image/png": "[encoded data removed]",
      "text/plain": [
       "<Figure size 432x288 with 1 Axes>"
      ]
     },
     "metadata": {
      "needs_background": "light"
     },
     "output_type": "display_data"
    }
   ],
   "source": [
    "# Scatter diagram.\n",
    "colors = {3:'red',4:'green',5:'blue',6:'brown'}\n",
    "df['colors'] = df['grid_size'].map(colors)\n",
    "df.plot.scatter(x='grid_size',y='score',color=df['colors']);"
   ]
  },
  {
   "cell_type": "code",
   "execution_count": 21,
   "id": "4403b67f",
   "metadata": {},
   "outputs": [
    {
     "data": {
      "image/png": "[encoded data removed]",
      "text/plain": [
       "<Figure size 432x288 with 1 Axes>"
      ]
     },
     "metadata": {
      "needs_background": "light"
     },
     "output_type": "display_data"
    }
   ],
   "source": [
    "# Scatter diagram showing the relation between time played and obtained score for 4x4 grid.\n",
    "df4x4 = df[df['grid_size']==4]\n",
    "df4x4.plot.scatter(x='time_played_sec',y='score',color='red');"
   ]
  },
  {
   "cell_type": "code",
   "execution_count": 22,
   "id": "1063cefc",
   "metadata": {},
   "outputs": [
    {
     "data": {
      "text/html": [
       "<div>\n",
       "<style scoped>\n",
       "    .dataframe tbody tr th:only-of-type {\n",
       "        vertical-align: middle;\n",
       "    }\n",
       "\n",
       "    .dataframe tbody tr th {\n",
       "        vertical-align: top;\n",
       "    }\n",
       "\n",
       "    .dataframe thead th {\n",
       "        text-align: right;\n",
       "    }\n",
       "</style>\n",
       "<table border=\"1\" class=\"dataframe\">\n",
       "  <thead>\n",
       "    <tr style=\"text-align: right;\">\n",
       "      <th></th>\n",
       "      <th>id</th>\n",
       "      <th>grid_size</th>\n",
       "      <th>score</th>\n",
       "      <th>time_played_sec</th>\n",
       "      <th>date_played</th>\n",
       "    </tr>\n",
       "  </thead>\n",
       "  <tbody>\n",
       "    <tr>\n",
       "      <th>0</th>\n",
       "      <td>0</td>\n",
       "      <td>3</td>\n",
       "      <td>8</td>\n",
       "      <td>2.498051</td>\n",
       "      <td>06 Mar 2022 09:35:18 PM</td>\n",
       "    </tr>\n",
       "    <tr>\n",
       "      <th>1</th>\n",
       "      <td>1</td>\n",
       "      <td>3</td>\n",
       "      <td>8</td>\n",
       "      <td>3.119032</td>\n",
       "      <td>06 Mar 2022 09:35:55 PM</td>\n",
       "    </tr>\n",
       "    <tr>\n",
       "      <th>2</th>\n",
       "      <td>2</td>\n",
       "      <td>3</td>\n",
       "      <td>32</td>\n",
       "      <td>37.503346</td>\n",
       "      <td>06 Mar 2022 09:36:42 PM</td>\n",
       "    </tr>\n",
       "    <tr>\n",
       "      <th>3</th>\n",
       "      <td>3</td>\n",
       "      <td>3</td>\n",
       "      <td>4</td>\n",
       "      <td>3.539565</td>\n",
       "      <td>06 Mar 2022 09:36:58 PM</td>\n",
       "    </tr>\n",
       "    <tr>\n",
       "      <th>6</th>\n",
       "      <td>6</td>\n",
       "      <td>3</td>\n",
       "      <td>8</td>\n",
       "      <td>3.330225</td>\n",
       "      <td>06 Mar 2022 10:59:43 PM</td>\n",
       "    </tr>\n",
       "    <tr>\n",
       "      <th>...</th>\n",
       "      <td>...</td>\n",
       "      <td>...</td>\n",
       "      <td>...</td>\n",
       "      <td>...</td>\n",
       "      <td>...</td>\n",
       "    </tr>\n",
       "    <tr>\n",
       "      <th>119</th>\n",
       "      <td>119</td>\n",
       "      <td>3</td>\n",
       "      <td>32</td>\n",
       "      <td>64.695085</td>\n",
       "      <td>19 Apr 2022 01:22:35 PM</td>\n",
       "    </tr>\n",
       "    <tr>\n",
       "      <th>120</th>\n",
       "      <td>120</td>\n",
       "      <td>3</td>\n",
       "      <td>128</td>\n",
       "      <td>121.782091</td>\n",
       "      <td>19 Apr 2022 01:24:45 PM</td>\n",
       "    </tr>\n",
       "    <tr>\n",
       "      <th>124</th>\n",
       "      <td>124</td>\n",
       "      <td>3</td>\n",
       "      <td>128</td>\n",
       "      <td>123.494435</td>\n",
       "      <td>20 May 2022 01:05:43 PM</td>\n",
       "    </tr>\n",
       "    <tr>\n",
       "      <th>125</th>\n",
       "      <td>125</td>\n",
       "      <td>3</td>\n",
       "      <td>64</td>\n",
       "      <td>78.953097</td>\n",
       "      <td>20 May 2022 01:07:12 PM</td>\n",
       "    </tr>\n",
       "    <tr>\n",
       "      <th>126</th>\n",
       "      <td>126</td>\n",
       "      <td>3</td>\n",
       "      <td>32</td>\n",
       "      <td>25.108271</td>\n",
       "      <td>20 May 2022 01:08:04 PM</td>\n",
       "    </tr>\n",
       "  </tbody>\n",
       "</table>\n",
       "<p>97 rows × 5 columns</p>\n",
       "</div>"
      ],
      "text/plain": [
       "      id  grid_size  score  time_played_sec              date_played\n",
       "0      0          3      8         2.498051  06 Mar 2022 09:35:18 PM\n",
       "1      1          3      8         3.119032  06 Mar 2022 09:35:55 PM\n",
       "2      2          3     32        37.503346  06 Mar 2022 09:36:42 PM\n",
       "3      3          3      4         3.539565  06 Mar 2022 09:36:58 PM\n",
       "6      6          3      8         3.330225  06 Mar 2022 10:59:43 PM\n",
       "..   ...        ...    ...              ...                      ...\n",
       "119  119          3     32        64.695085  19 Apr 2022 01:22:35 PM\n",
       "120  120          3    128       121.782091  19 Apr 2022 01:24:45 PM\n",
       "124  124          3    128       123.494435  20 May 2022 01:05:43 PM\n",
       "125  125          3     64        78.953097  20 May 2022 01:07:12 PM\n",
       "126  126          3     32        25.108271  20 May 2022 01:08:04 PM\n",
       "\n",
       "[97 rows x 5 columns]"
      ]
     },
     "execution_count": 22,
     "metadata": {},
     "output_type": "execute_result"
    }
   ],
   "source": [
    "# Display only the records where the grid size is equal to 3 (exlude the column describing colors).\n",
    "df3x3 = df[df['grid_size']==3]\n",
    "df3x3.loc[:, df.columns!='colors']"
   ]
  }
 ],
 "metadata": {
  "interpreter": {
   "hash": "7ee941c6eee7abd58bca1e8d62d0125231cec6a322dbdce97177f426017c7712"
  },
  "kernelspec": {
   "display_name": "Python 3.10.0 64-bit ('3.10.0')",
   "language": "python",
   "name": "python3"
  },
  "language_info": {
   "codemirror_mode": {
    "name": "ipython",
    "version": 3
   },
   "file_extension": ".py",
   "mimetype": "text/x-python",
   "name": "python",
   "nbconvert_exporter": "python",
   "pygments_lexer": "ipython3",
   "version": "3.10.0"
  }
 },
 "nbformat": 4,
 "nbformat_minor": 5
}
