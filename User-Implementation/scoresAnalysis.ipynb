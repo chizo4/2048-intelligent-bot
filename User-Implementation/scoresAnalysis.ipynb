{
 "cells": [
  {
   "cell_type": "code",
   "execution_count": 41,
   "id": "2731bcd1",
   "metadata": {},
   "outputs": [],
   "source": [
    "'''\n",
    "2048 GAME PROJECT: Simple analysis of the DB data using pandas.\n",
    "\n",
    "Date created:\n",
    "    04/2022\n",
    "\n",
    "Author:\n",
    "    Filip J. Cierkosz\n",
    "'''\n",
    "\n",
    "import pandas as pd\n",
    "import matplotlib.pyplot as plt\n",
    "import sqlite3"
   ]
  },
  {
   "cell_type": "code",
   "execution_count": 42,
   "id": "1bcfb41a",
   "metadata": {},
   "outputs": [],
   "source": [
    "# Connect with the DB and create a pandas dataframe for this purpose.\n",
    "db = sqlite3.connect('./scores.db')\n",
    "df = pd.read_sql_query(\"SELECT * FROM scores\", db)"
   ]
  },
  {
   "cell_type": "code",
   "execution_count": 43,
   "id": "3dbf2ba9",
   "metadata": {},
   "outputs": [
    {
     "data": {
      "text/html": [
       "<div>\n",
       "<style scoped>\n",
       "    .dataframe tbody tr th:only-of-type {\n",
       "        vertical-align: middle;\n",
       "    }\n",
       "\n",
       "    .dataframe tbody tr th {\n",
       "        vertical-align: top;\n",
       "    }\n",
       "\n",
       "    .dataframe thead th {\n",
       "        text-align: right;\n",
       "    }\n",
       "</style>\n",
       "<table border=\"1\" class=\"dataframe\">\n",
       "  <thead>\n",
       "    <tr style=\"text-align: right;\">\n",
       "      <th></th>\n",
       "      <th>id</th>\n",
       "      <th>grid_size</th>\n",
       "      <th>score</th>\n",
       "      <th>time_played_sec</th>\n",
       "      <th>date_played</th>\n",
       "    </tr>\n",
       "  </thead>\n",
       "  <tbody>\n",
       "    <tr>\n",
       "      <th>0</th>\n",
       "      <td>0</td>\n",
       "      <td>3</td>\n",
       "      <td>8</td>\n",
       "      <td>2.50</td>\n",
       "      <td>06 Mar 2022 09:35:18 PM</td>\n",
       "    </tr>\n",
       "    <tr>\n",
       "      <th>1</th>\n",
       "      <td>1</td>\n",
       "      <td>3</td>\n",
       "      <td>8</td>\n",
       "      <td>3.12</td>\n",
       "      <td>06 Mar 2022 09:35:55 PM</td>\n",
       "    </tr>\n",
       "    <tr>\n",
       "      <th>2</th>\n",
       "      <td>2</td>\n",
       "      <td>3</td>\n",
       "      <td>32</td>\n",
       "      <td>37.50</td>\n",
       "      <td>06 Mar 2022 09:36:42 PM</td>\n",
       "    </tr>\n",
       "  </tbody>\n",
       "</table>\n",
       "</div>"
      ],
      "text/plain": [
       "   id  grid_size  score  time_played_sec              date_played\n",
       "0   0          3      8             2.50  06 Mar 2022 09:35:18 PM\n",
       "1   1          3      8             3.12  06 Mar 2022 09:35:55 PM\n",
       "2   2          3     32            37.50  06 Mar 2022 09:36:42 PM"
      ]
     },
     "execution_count": 43,
     "metadata": {},
     "output_type": "execute_result"
    }
   ],
   "source": [
    "# Display the first 3 records from the DB.\n",
    "df.head(3)"
   ]
  },
  {
   "cell_type": "code",
   "execution_count": 44,
   "id": "7997d9a4",
   "metadata": {},
   "outputs": [
    {
     "data": {
      "text/html": [
       "<div>\n",
       "<style scoped>\n",
       "    .dataframe tbody tr th:only-of-type {\n",
       "        vertical-align: middle;\n",
       "    }\n",
       "\n",
       "    .dataframe tbody tr th {\n",
       "        vertical-align: top;\n",
       "    }\n",
       "\n",
       "    .dataframe thead th {\n",
       "        text-align: right;\n",
       "    }\n",
       "</style>\n",
       "<table border=\"1\" class=\"dataframe\">\n",
       "  <thead>\n",
       "    <tr style=\"text-align: right;\">\n",
       "      <th></th>\n",
       "      <th>id</th>\n",
       "      <th>grid_size</th>\n",
       "      <th>score</th>\n",
       "      <th>time_played_sec</th>\n",
       "      <th>date_played</th>\n",
       "    </tr>\n",
       "  </thead>\n",
       "  <tbody>\n",
       "    <tr>\n",
       "      <th>113</th>\n",
       "      <td>113</td>\n",
       "      <td>4</td>\n",
       "      <td>512</td>\n",
       "      <td>683.04</td>\n",
       "      <td>02 Apr 2022 02:56:59 PM</td>\n",
       "    </tr>\n",
       "    <tr>\n",
       "      <th>114</th>\n",
       "      <td>114</td>\n",
       "      <td>3</td>\n",
       "      <td>64</td>\n",
       "      <td>69.06</td>\n",
       "      <td>06 Apr 2022 09:44:03 PM</td>\n",
       "    </tr>\n",
       "    <tr>\n",
       "      <th>115</th>\n",
       "      <td>115</td>\n",
       "      <td>4</td>\n",
       "      <td>128</td>\n",
       "      <td>81.26</td>\n",
       "      <td>06 Apr 2022 09:52:26 PM</td>\n",
       "    </tr>\n",
       "  </tbody>\n",
       "</table>\n",
       "</div>"
      ],
      "text/plain": [
       "      id  grid_size  score  time_played_sec              date_played\n",
       "113  113          4    512           683.04  02 Apr 2022 02:56:59 PM\n",
       "114  114          3     64            69.06  06 Apr 2022 09:44:03 PM\n",
       "115  115          4    128            81.26  06 Apr 2022 09:52:26 PM"
      ]
     },
     "execution_count": 44,
     "metadata": {},
     "output_type": "execute_result"
    }
   ],
   "source": [
    "# Display the last 3 records from the DB.\n",
    "df.tail(3)"
   ]
  },
  {
   "cell_type": "code",
   "execution_count": 45,
   "id": "27cffc37",
   "metadata": {},
   "outputs": [
    {
     "data": {
      "text/plain": [
       "145.48275862068965"
      ]
     },
     "execution_count": 45,
     "metadata": {},
     "output_type": "execute_result"
    }
   ],
   "source": [
    "# Calculate the mean for all grids.\n",
    "df['score'].mean()"
   ]
  },
  {
   "cell_type": "code",
   "execution_count": 50,
   "id": "bb956951",
   "metadata": {},
   "outputs": [
    {
     "data": {
      "text/plain": [
       "302.08"
      ]
     },
     "execution_count": 50,
     "metadata": {},
     "output_type": "execute_result"
    }
   ],
   "source": [
    "# Calculate the mean for 4x4 grid.\n",
    "df4x4 = df[df['grid_size']==4]\n",
    "df4x4['score'].mean()"
   ]
  },
  {
   "cell_type": "code",
   "execution_count": 54,
   "id": "59c51b3a",
   "metadata": {},
   "outputs": [
    {
     "data": {
      "text/plain": [
       "64"
      ]
     },
     "execution_count": 54,
     "metadata": {},
     "output_type": "execute_result"
    }
   ],
   "source": [
    "# Calculate the median score for all grids (as integer).\n",
    "df['score'].median().astype(int)"
   ]
  },
  {
   "cell_type": "code",
   "execution_count": 55,
   "id": "a307378d",
   "metadata": {},
   "outputs": [
    {
     "data": {
      "text/plain": [
       "64"
      ]
     },
     "execution_count": 55,
     "metadata": {},
     "output_type": "execute_result"
    }
   ],
   "source": [
    "# Calculate the median score for 3x3 grid.\n",
    "df3x3 = df[df['grid_size']==3]\n",
    "df3x3['score'].median().astype(int)"
   ]
  },
  {
   "cell_type": "code",
   "execution_count": 56,
   "id": "17c402ca",
   "metadata": {},
   "outputs": [
    {
     "data": {
      "text/plain": [
       "407.8405588453413"
      ]
     },
     "execution_count": 56,
     "metadata": {},
     "output_type": "execute_result"
    }
   ],
   "source": [
    "# Calculate the standard deviation for the results.\n",
    "df['score'].std()"
   ]
  },
  {
   "cell_type": "code",
   "execution_count": 57,
   "id": "884e763a",
   "metadata": {},
   "outputs": [
    {
     "data": {
      "text/plain": [
       "281.41812308378434"
      ]
     },
     "execution_count": 57,
     "metadata": {},
     "output_type": "execute_result"
    }
   ],
   "source": [
    "# Calculate the standard deviation for the 4x4 grid.\n",
    "df4x4 = df[df['grid_size']==4]\n",
    "df4x4['score'].std()"
   ]
  },
  {
   "cell_type": "code",
   "execution_count": 58,
   "id": "6b35b193",
   "metadata": {},
   "outputs": [
    {
     "data": {
      "text/plain": [
       "score\n",
       "64       37\n",
       "32       31\n",
       "128      14\n",
       "16        9\n",
       "8         7\n",
       "256       7\n",
       "512       7\n",
       "1024      2\n",
       "4         1\n",
       "4096      1\n",
       "dtype: int64"
      ]
     },
     "execution_count": 58,
     "metadata": {},
     "output_type": "execute_result"
    }
   ],
   "source": [
    "# Count occurrences of different scores.\n",
    "df.value_counts(['score'])"
   ]
  },
  {
   "cell_type": "code",
   "execution_count": 59,
   "id": "192a8e9e",
   "metadata": {},
   "outputs": [
    {
     "data": {
      "text/plain": [
       "score\n",
       "64       33\n",
       "32       27\n",
       "128      12\n",
       "16        9\n",
       "8         7\n",
       "4         1\n",
       "dtype: int64"
      ]
     },
     "execution_count": 59,
     "metadata": {},
     "output_type": "execute_result"
    }
   ],
   "source": [
    "# Count occurrences of different scores on 3x3 grid.\n",
    "df3x3 = df[df['grid_size']==3]\n",
    "df3x3.value_counts(['score'])"
   ]
  },
  {
   "cell_type": "code",
   "execution_count": 60,
   "id": "f20547a8",
   "metadata": {},
   "outputs": [
    {
     "data": {
      "text/plain": [
       "0    64\n",
       "Name: score, dtype: int64"
      ]
     },
     "execution_count": 60,
     "metadata": {},
     "output_type": "execute_result"
    }
   ],
   "source": [
    "# Get the mode for scores from all grids.\n",
    "df['score'].mode()"
   ]
  },
  {
   "cell_type": "code",
   "execution_count": 63,
   "id": "323b3de7",
   "metadata": {},
   "outputs": [
    {
     "data": {
      "text/plain": [
       "313.175"
      ]
     },
     "execution_count": 63,
     "metadata": {},
     "output_type": "execute_result"
    }
   ],
   "source": [
    "# Get the average game time (seconds, 3 decimal places).\n",
    "df['time_played_sec'].mean().round(decimals=3)"
   ]
  },
  {
   "cell_type": "code",
   "execution_count": 64,
   "id": "26689109",
   "metadata": {},
   "outputs": [
    {
     "data": {
      "text/html": [
       "<div>\n",
       "<style scoped>\n",
       "    .dataframe tbody tr th:only-of-type {\n",
       "        vertical-align: middle;\n",
       "    }\n",
       "\n",
       "    .dataframe tbody tr th {\n",
       "        vertical-align: top;\n",
       "    }\n",
       "\n",
       "    .dataframe thead th {\n",
       "        text-align: right;\n",
       "    }\n",
       "</style>\n",
       "<table border=\"1\" class=\"dataframe\">\n",
       "  <thead>\n",
       "    <tr style=\"text-align: right;\">\n",
       "      <th></th>\n",
       "      <th>time_played_sec</th>\n",
       "      <th>grid_size</th>\n",
       "      <th>score</th>\n",
       "    </tr>\n",
       "  </thead>\n",
       "  <tbody>\n",
       "    <tr>\n",
       "      <th>count</th>\n",
       "      <td>116.00</td>\n",
       "      <td>116.00</td>\n",
       "      <td>116.00</td>\n",
       "    </tr>\n",
       "    <tr>\n",
       "      <th>mean</th>\n",
       "      <td>313.18</td>\n",
       "      <td>3.26</td>\n",
       "      <td>145.48</td>\n",
       "    </tr>\n",
       "    <tr>\n",
       "      <th>std</th>\n",
       "      <td>1,282.22</td>\n",
       "      <td>0.51</td>\n",
       "      <td>407.84</td>\n",
       "    </tr>\n",
       "    <tr>\n",
       "      <th>min</th>\n",
       "      <td>2.11</td>\n",
       "      <td>3.00</td>\n",
       "      <td>4.00</td>\n",
       "    </tr>\n",
       "    <tr>\n",
       "      <th>25%</th>\n",
       "      <td>39.71</td>\n",
       "      <td>3.00</td>\n",
       "      <td>32.00</td>\n",
       "    </tr>\n",
       "    <tr>\n",
       "      <th>50%</th>\n",
       "      <td>73.48</td>\n",
       "      <td>3.00</td>\n",
       "      <td>64.00</td>\n",
       "    </tr>\n",
       "    <tr>\n",
       "      <th>75%</th>\n",
       "      <td>151.26</td>\n",
       "      <td>3.00</td>\n",
       "      <td>128.00</td>\n",
       "    </tr>\n",
       "    <tr>\n",
       "      <th>max</th>\n",
       "      <td>13,448.30</td>\n",
       "      <td>6.00</td>\n",
       "      <td>4,096.00</td>\n",
       "    </tr>\n",
       "  </tbody>\n",
       "</table>\n",
       "</div>"
      ],
      "text/plain": [
       "       time_played_sec  grid_size    score\n",
       "count           116.00     116.00   116.00\n",
       "mean            313.18       3.26   145.48\n",
       "std           1,282.22       0.51   407.84\n",
       "min               2.11       3.00     4.00\n",
       "25%              39.71       3.00    32.00\n",
       "50%              73.48       3.00    64.00\n",
       "75%             151.26       3.00   128.00\n",
       "max          13,448.30       6.00 4,096.00"
      ]
     },
     "execution_count": 64,
     "metadata": {},
     "output_type": "execute_result"
    }
   ],
   "source": [
    "# Describe the dataset (excluding the 'id' column, as it would be meaningless).\n",
    "fields = set(df.columns)-{'id'}\n",
    "dfDesc = df[list(fields)]\n",
    "dfDesc.describe()"
   ]
  },
  {
   "cell_type": "code",
   "execution_count": 79,
   "id": "50e6ce96",
   "metadata": {},
   "outputs": [
    {
     "data": {
      "image/png": "[encoded data removed]",
      "text/plain": [
       "<Figure size 432x288 with 1 Axes>"
      ]
     },
     "metadata": {
      "needs_background": "light"
     },
     "output_type": "display_data"
    }
   ],
   "source": [
    "# Plot the diagram showing average scores on different grids.\n",
    "data = {\n",
    "    'Grid Size':[3,4,5,6],\n",
    "    'Average Score':[\n",
    "                        df[df['grid_size']==3]['score'].mean(),\n",
    "                        df[df['grid_size']==4]['score'].mean(),\n",
    "                        df[df['grid_size']==5]['score'].mean(),\n",
    "                        df[df['grid_size']==6]['score'].mean()\n",
    "                    ]\n",
    "}\n",
    "dfSc = pd.DataFrame(data, columns=['Grid Size','Average Score'])\n",
    "dfSc.plot(x='Grid Size', y='Average Score', kind='bar', color='green')\n",
    "plt.show()"
   ]
  },
  {
   "cell_type": "code",
   "execution_count": 86,
   "id": "996bb2d8",
   "metadata": {},
   "outputs": [
    {
     "data": {
      "image/png": "[encoded data removed]",
      "text/plain": [
       "<Figure size 432x288 with 1 Axes>"
      ]
     },
     "metadata": {
      "needs_background": "light"
     },
     "output_type": "display_data"
    }
   ],
   "source": [
    "# Plot the diagram showing average time played on different grids.\n",
    "data = {\n",
    "    'Grid Size':[3,4,5,6],\n",
    "    'Average Time Played (sec)':[\n",
    "                        df[df['grid_size']==3]['time_played_sec'].mean(),\n",
    "                        df[df['grid_size']==4]['time_played_sec'].mean(),\n",
    "                        df[df['grid_size']==5]['time_played_sec'].mean(),\n",
    "                        df[df['grid_size']==6]['time_played_sec'].mean()\n",
    "                    ]\n",
    "}\n",
    "dfSc = pd.DataFrame(data,columns=['Grid Size','Average Time Played (sec)'])\n",
    "dfSc.plot(x='Grid Size', y='Average Time Played (sec)', kind='bar',color='red')\n",
    "plt.show()"
   ]
  },
  {
   "cell_type": "code",
   "execution_count": 116,
   "id": "a633fde4",
   "metadata": {},
   "outputs": [
    {
     "data": {
      "image/png": "[encoded data removed]",
      "text/plain": [
       "<Figure size 432x288 with 1 Axes>"
      ]
     },
     "metadata": {
      "needs_background": "light"
     },
     "output_type": "display_data"
    }
   ],
   "source": [
    "# Determine which grid is mostly used for games and represent it on a graph.\n",
    "dataDict = df['grid_size'].value_counts().to_dict()\n",
    "data = {\n",
    "    'Grid Size':dataDict.keys(),\n",
    "    'Games Played':dataDict.values()\n",
    "}\n",
    "dfSc = pd.DataFrame(data,columns=['Grid Size','Games Played'])\n",
    "dfSc.plot(x='Grid Size', y='Games Played', kind='bar',color='purple')\n",
    "plt.show()"
   ]
  },
  {
   "cell_type": "code",
   "execution_count": 120,
   "id": "5cfd07e9",
   "metadata": {},
   "outputs": [
    {
     "data": {
      "text/plain": [
       "<AxesSubplot:title={'center':'score'}, xlabel='grid_size'>"
      ]
     },
     "execution_count": 120,
     "metadata": {},
     "output_type": "execute_result"
    },
    {
     "data": {
      "image/png": "[encoded data removed]",
      "text/plain": [
       "<Figure size 432x288 with 1 Axes>"
      ]
     },
     "metadata": {
      "needs_background": "light"
     },
     "output_type": "display_data"
    }
   ],
   "source": [
    "df.boxplot(by ='grid_size', column =['score'], color='black')"
   ]
  },
  {
   "cell_type": "code",
   "execution_count": 70,
   "id": "e76c6e0f",
   "metadata": {},
   "outputs": [
    {
     "data": {
      "image/png": "[encoded data removed]",
      "text/plain": [
       "<Figure size 432x288 with 1 Axes>"
      ]
     },
     "metadata": {
      "needs_background": "light"
     },
     "output_type": "display_data"
    }
   ],
   "source": [
    "# Scatter diagram.\n",
    "colors = {3:'red',4:'green',5:'blue',6:'brown'}\n",
    "df['colors'] = df['grid_size'].map(colors)\n",
    "df.plot.scatter(x='grid_size',y='score',color=df['colors']);"
   ]
  },
  {
   "cell_type": "code",
   "execution_count": 121,
   "id": "4403b67f",
   "metadata": {},
   "outputs": [
    {
     "data": {
      "image/png": "[encoded data removed]",
      "text/plain": [
       "<Figure size 432x288 with 1 Axes>"
      ]
     },
     "metadata": {
      "needs_background": "light"
     },
     "output_type": "display_data"
    }
   ],
   "source": [
    "# Scatter diagram showing the relation between time played and obtained score for 4x4 grid.\n",
    "df4x4 = df[df['grid_size']==4]\n",
    "df4x4.plot.scatter(x='time_played_sec',y='score',color='red');"
   ]
  },
  {
   "cell_type": "code",
   "execution_count": 124,
   "id": "1063cefc",
   "metadata": {},
   "outputs": [
    {
     "data": {
      "text/html": [
       "<div>\n",
       "<style scoped>\n",
       "    .dataframe tbody tr th:only-of-type {\n",
       "        vertical-align: middle;\n",
       "    }\n",
       "\n",
       "    .dataframe tbody tr th {\n",
       "        vertical-align: top;\n",
       "    }\n",
       "\n",
       "    .dataframe thead th {\n",
       "        text-align: right;\n",
       "    }\n",
       "</style>\n",
       "<table border=\"1\" class=\"dataframe\">\n",
       "  <thead>\n",
       "    <tr style=\"text-align: right;\">\n",
       "      <th></th>\n",
       "      <th>id</th>\n",
       "      <th>grid_size</th>\n",
       "      <th>score</th>\n",
       "      <th>time_played_sec</th>\n",
       "      <th>date_played</th>\n",
       "    </tr>\n",
       "  </thead>\n",
       "  <tbody>\n",
       "    <tr>\n",
       "      <th>0</th>\n",
       "      <td>0</td>\n",
       "      <td>3</td>\n",
       "      <td>8</td>\n",
       "      <td>2.50</td>\n",
       "      <td>06 Mar 2022 09:35:18 PM</td>\n",
       "    </tr>\n",
       "    <tr>\n",
       "      <th>1</th>\n",
       "      <td>1</td>\n",
       "      <td>3</td>\n",
       "      <td>8</td>\n",
       "      <td>3.12</td>\n",
       "      <td>06 Mar 2022 09:35:55 PM</td>\n",
       "    </tr>\n",
       "    <tr>\n",
       "      <th>2</th>\n",
       "      <td>2</td>\n",
       "      <td>3</td>\n",
       "      <td>32</td>\n",
       "      <td>37.50</td>\n",
       "      <td>06 Mar 2022 09:36:42 PM</td>\n",
       "    </tr>\n",
       "    <tr>\n",
       "      <th>3</th>\n",
       "      <td>3</td>\n",
       "      <td>3</td>\n",
       "      <td>4</td>\n",
       "      <td>3.54</td>\n",
       "      <td>06 Mar 2022 09:36:58 PM</td>\n",
       "    </tr>\n",
       "    <tr>\n",
       "      <th>6</th>\n",
       "      <td>6</td>\n",
       "      <td>3</td>\n",
       "      <td>8</td>\n",
       "      <td>3.33</td>\n",
       "      <td>06 Mar 2022 10:59:43 PM</td>\n",
       "    </tr>\n",
       "    <tr>\n",
       "      <th>...</th>\n",
       "      <td>...</td>\n",
       "      <td>...</td>\n",
       "      <td>...</td>\n",
       "      <td>...</td>\n",
       "      <td>...</td>\n",
       "    </tr>\n",
       "    <tr>\n",
       "      <th>106</th>\n",
       "      <td>106</td>\n",
       "      <td>3</td>\n",
       "      <td>64</td>\n",
       "      <td>86.77</td>\n",
       "      <td>29 Mar 2022 11:30:15 PM</td>\n",
       "    </tr>\n",
       "    <tr>\n",
       "      <th>107</th>\n",
       "      <td>107</td>\n",
       "      <td>3</td>\n",
       "      <td>64</td>\n",
       "      <td>70.49</td>\n",
       "      <td>29 Mar 2022 11:31:35 PM</td>\n",
       "    </tr>\n",
       "    <tr>\n",
       "      <th>109</th>\n",
       "      <td>109</td>\n",
       "      <td>3</td>\n",
       "      <td>8</td>\n",
       "      <td>15.92</td>\n",
       "      <td>02 Apr 2022 02:14:49 PM</td>\n",
       "    </tr>\n",
       "    <tr>\n",
       "      <th>110</th>\n",
       "      <td>110</td>\n",
       "      <td>3</td>\n",
       "      <td>16</td>\n",
       "      <td>39.75</td>\n",
       "      <td>02 Apr 2022 02:15:39 PM</td>\n",
       "    </tr>\n",
       "    <tr>\n",
       "      <th>114</th>\n",
       "      <td>114</td>\n",
       "      <td>3</td>\n",
       "      <td>64</td>\n",
       "      <td>69.06</td>\n",
       "      <td>06 Apr 2022 09:44:03 PM</td>\n",
       "    </tr>\n",
       "  </tbody>\n",
       "</table>\n",
       "<p>89 rows × 5 columns</p>\n",
       "</div>"
      ],
      "text/plain": [
       "      id  grid_size  score  time_played_sec              date_played\n",
       "0      0          3      8             2.50  06 Mar 2022 09:35:18 PM\n",
       "1      1          3      8             3.12  06 Mar 2022 09:35:55 PM\n",
       "2      2          3     32            37.50  06 Mar 2022 09:36:42 PM\n",
       "3      3          3      4             3.54  06 Mar 2022 09:36:58 PM\n",
       "6      6          3      8             3.33  06 Mar 2022 10:59:43 PM\n",
       "..   ...        ...    ...              ...                      ...\n",
       "106  106          3     64            86.77  29 Mar 2022 11:30:15 PM\n",
       "107  107          3     64            70.49  29 Mar 2022 11:31:35 PM\n",
       "109  109          3      8            15.92  02 Apr 2022 02:14:49 PM\n",
       "110  110          3     16            39.75  02 Apr 2022 02:15:39 PM\n",
       "114  114          3     64            69.06  06 Apr 2022 09:44:03 PM\n",
       "\n",
       "[89 rows x 5 columns]"
      ]
     },
     "execution_count": 124,
     "metadata": {},
     "output_type": "execute_result"
    }
   ],
   "source": [
    "# Display only the records where the grid size is equal to 3 (exlude the column describing colors).\n",
    "df3x3 = df[df['grid_size']==3]\n",
    "df3x3.loc[:, df.columns!='colors']"
   ]
  },
  {
   "cell_type": "code",
   "execution_count": null,
   "id": "cc547e74",
   "metadata": {},
   "outputs": [],
   "source": []
  }
 ],
 "metadata": {
  "kernelspec": {
   "display_name": "Python 3 (ipykernel)",
   "language": "python",
   "name": "python3"
  },
  "language_info": {
   "codemirror_mode": {
    "name": "ipython",
    "version": 3
   },
   "file_extension": ".py",
   "mimetype": "text/x-python",
   "name": "python",
   "nbconvert_exporter": "python",
   "pygments_lexer": "ipython3",
   "version": "3.10.0"
  }
 },
 "nbformat": 4,
 "nbformat_minor": 5
}
