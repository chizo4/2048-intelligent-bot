{
 "cells": [
  {
   "cell_type": "code",
   "execution_count": 104,
   "id": "2731bcd1",
   "metadata": {},
   "outputs": [],
   "source": [
    "'''\n",
    "2048 GAME PROJECT: Simple analysis of the DB data using pandas.\n",
    "\n",
    "Date created:\n",
    "    04/2022\n",
    "\n",
    "Author:\n",
    "    Filip J. Cierkosz\n",
    "'''\n",
    "\n",
    "import pandas as pd\n",
    "import matplotlib.pyplot as plt\n",
    "import sqlite3"
   ]
  },
  {
   "cell_type": "code",
   "execution_count": 5,
   "id": "1bcfb41a",
   "metadata": {},
   "outputs": [],
   "source": [
    "# Connect with the DB and create a pandas dataframe for this purpose.\n",
    "db = sqlite3.connect('./scores.db')\n",
    "df = pd.read_sql_query(\"SELECT * FROM scores\", db)"
   ]
  },
  {
   "cell_type": "code",
   "execution_count": 66,
   "id": "3dbf2ba9",
   "metadata": {},
   "outputs": [
    {
     "data": {
      "text/html": [
       "<div>\n",
       "<style scoped>\n",
       "    .dataframe tbody tr th:only-of-type {\n",
       "        vertical-align: middle;\n",
       "    }\n",
       "\n",
       "    .dataframe tbody tr th {\n",
       "        vertical-align: top;\n",
       "    }\n",
       "\n",
       "    .dataframe thead th {\n",
       "        text-align: right;\n",
       "    }\n",
       "</style>\n",
       "<table border=\"1\" class=\"dataframe\">\n",
       "  <thead>\n",
       "    <tr style=\"text-align: right;\">\n",
       "      <th></th>\n",
       "      <th>id</th>\n",
       "      <th>grid_size</th>\n",
       "      <th>score</th>\n",
       "      <th>time_played_sec</th>\n",
       "      <th>date_played</th>\n",
       "      <th>colors</th>\n",
       "    </tr>\n",
       "  </thead>\n",
       "  <tbody>\n",
       "    <tr>\n",
       "      <th>0</th>\n",
       "      <td>0</td>\n",
       "      <td>3</td>\n",
       "      <td>8</td>\n",
       "      <td>2.498051</td>\n",
       "      <td>06 Mar 2022 09:35:18 PM</td>\n",
       "      <td>red</td>\n",
       "    </tr>\n",
       "    <tr>\n",
       "      <th>1</th>\n",
       "      <td>1</td>\n",
       "      <td>3</td>\n",
       "      <td>8</td>\n",
       "      <td>3.119032</td>\n",
       "      <td>06 Mar 2022 09:35:55 PM</td>\n",
       "      <td>red</td>\n",
       "    </tr>\n",
       "    <tr>\n",
       "      <th>2</th>\n",
       "      <td>2</td>\n",
       "      <td>3</td>\n",
       "      <td>32</td>\n",
       "      <td>37.503346</td>\n",
       "      <td>06 Mar 2022 09:36:42 PM</td>\n",
       "      <td>red</td>\n",
       "    </tr>\n",
       "  </tbody>\n",
       "</table>\n",
       "</div>"
      ],
      "text/plain": [
       "   id  grid_size  score  time_played_sec              date_played colors\n",
       "0   0          3      8         2.498051  06 Mar 2022 09:35:18 PM    red\n",
       "1   1          3      8         3.119032  06 Mar 2022 09:35:55 PM    red\n",
       "2   2          3     32        37.503346  06 Mar 2022 09:36:42 PM    red"
      ]
     },
     "execution_count": 66,
     "metadata": {},
     "output_type": "execute_result"
    }
   ],
   "source": [
    "# Display the first 3 records from the DB.\n",
    "df.head(3)"
   ]
  },
  {
   "cell_type": "code",
   "execution_count": 67,
   "id": "7997d9a4",
   "metadata": {},
   "outputs": [
    {
     "data": {
      "text/html": [
       "<div>\n",
       "<style scoped>\n",
       "    .dataframe tbody tr th:only-of-type {\n",
       "        vertical-align: middle;\n",
       "    }\n",
       "\n",
       "    .dataframe tbody tr th {\n",
       "        vertical-align: top;\n",
       "    }\n",
       "\n",
       "    .dataframe thead th {\n",
       "        text-align: right;\n",
       "    }\n",
       "</style>\n",
       "<table border=\"1\" class=\"dataframe\">\n",
       "  <thead>\n",
       "    <tr style=\"text-align: right;\">\n",
       "      <th></th>\n",
       "      <th>id</th>\n",
       "      <th>grid_size</th>\n",
       "      <th>score</th>\n",
       "      <th>time_played_sec</th>\n",
       "      <th>date_played</th>\n",
       "      <th>colors</th>\n",
       "    </tr>\n",
       "  </thead>\n",
       "  <tbody>\n",
       "    <tr>\n",
       "      <th>111</th>\n",
       "      <td>111</td>\n",
       "      <td>4</td>\n",
       "      <td>256</td>\n",
       "      <td>342.942427</td>\n",
       "      <td>02 Apr 2022 02:21:31 PM</td>\n",
       "      <td>green</td>\n",
       "    </tr>\n",
       "    <tr>\n",
       "      <th>112</th>\n",
       "      <td>112</td>\n",
       "      <td>4</td>\n",
       "      <td>512</td>\n",
       "      <td>1314.926037</td>\n",
       "      <td>02 Apr 2022 02:45:19 PM</td>\n",
       "      <td>green</td>\n",
       "    </tr>\n",
       "    <tr>\n",
       "      <th>113</th>\n",
       "      <td>113</td>\n",
       "      <td>4</td>\n",
       "      <td>512</td>\n",
       "      <td>683.041038</td>\n",
       "      <td>02 Apr 2022 02:56:59 PM</td>\n",
       "      <td>green</td>\n",
       "    </tr>\n",
       "  </tbody>\n",
       "</table>\n",
       "</div>"
      ],
      "text/plain": [
       "      id  grid_size  score  time_played_sec              date_played colors\n",
       "111  111          4    256       342.942427  02 Apr 2022 02:21:31 PM  green\n",
       "112  112          4    512      1314.926037  02 Apr 2022 02:45:19 PM  green\n",
       "113  113          4    512       683.041038  02 Apr 2022 02:56:59 PM  green"
      ]
     },
     "execution_count": 67,
     "metadata": {},
     "output_type": "execute_result"
    }
   ],
   "source": [
    "# Display the last 3 records from the DB.\n",
    "df.tail(3)"
   ]
  },
  {
   "cell_type": "code",
   "execution_count": 95,
   "id": "27cffc37",
   "metadata": {},
   "outputs": [
    {
     "data": {
      "text/plain": [
       "146.35087719298247"
      ]
     },
     "execution_count": 95,
     "metadata": {},
     "output_type": "execute_result"
    }
   ],
   "source": [
    "# Calculate the mean for all grids.\n",
    "df['score'].mean()"
   ]
  },
  {
   "cell_type": "code",
   "execution_count": 96,
   "id": "bb956951",
   "metadata": {},
   "outputs": [
    {
     "data": {
      "text/plain": [
       "309.3333333333333"
      ]
     },
     "execution_count": 96,
     "metadata": {},
     "output_type": "execute_result"
    }
   ],
   "source": [
    "# Calculate the mean for 4x4 grid.\n",
    "df4x4 = df[df['grid_size']==4]\n",
    "df4x4['score'].mean()"
   ]
  },
  {
   "cell_type": "code",
   "execution_count": 18,
   "id": "59c51b3a",
   "metadata": {},
   "outputs": [
    {
     "data": {
      "text/plain": [
       "64.0"
      ]
     },
     "execution_count": 18,
     "metadata": {},
     "output_type": "execute_result"
    }
   ],
   "source": [
    "# Calculate the median score for all grids.\n",
    "df['score'].median()"
   ]
  },
  {
   "cell_type": "code",
   "execution_count": 101,
   "id": "a307378d",
   "metadata": {},
   "outputs": [
    {
     "data": {
      "text/plain": [
       "48.0"
      ]
     },
     "execution_count": 101,
     "metadata": {},
     "output_type": "execute_result"
    }
   ],
   "source": [
    "# Calculate the median score for 3x3 grid.\n",
    "df3x3 = df[df['grid_size']==3]\n",
    "df3x3['score'].median()"
   ]
  },
  {
   "cell_type": "code",
   "execution_count": 29,
   "id": "17c402ca",
   "metadata": {},
   "outputs": [
    {
     "data": {
      "text/plain": [
       "411.35831510533893"
      ]
     },
     "execution_count": 29,
     "metadata": {},
     "output_type": "execute_result"
    }
   ],
   "source": [
    "# Calculate the standard deviation for the results.\n",
    "df['score'].std()"
   ]
  },
  {
   "cell_type": "code",
   "execution_count": 102,
   "id": "884e763a",
   "metadata": {},
   "outputs": [
    {
     "data": {
      "text/plain": [
       "285.0737001071015"
      ]
     },
     "execution_count": 102,
     "metadata": {},
     "output_type": "execute_result"
    }
   ],
   "source": [
    "# Calculate the standard deviation for the 4x4 grid.\n",
    "df4x4 = df[df['grid_size']==4]\n",
    "df4x4['score'].std()"
   ]
  },
  {
   "cell_type": "code",
   "execution_count": 58,
   "id": "6b35b193",
   "metadata": {},
   "outputs": [
    {
     "data": {
      "text/plain": [
       "score\n",
       "64       36\n",
       "32       31\n",
       "128      13\n",
       "16        9\n",
       "8         7\n",
       "256       7\n",
       "512       7\n",
       "1024      2\n",
       "4         1\n",
       "4096      1\n",
       "dtype: int64"
      ]
     },
     "execution_count": 58,
     "metadata": {},
     "output_type": "execute_result"
    }
   ],
   "source": [
    "# Count occurrences of different scores.\n",
    "df.value_counts(['score'])"
   ]
  },
  {
   "cell_type": "code",
   "execution_count": 103,
   "id": "192a8e9e",
   "metadata": {},
   "outputs": [
    {
     "data": {
      "text/plain": [
       "score\n",
       "64       32\n",
       "32       27\n",
       "128      12\n",
       "16        9\n",
       "8         7\n",
       "4         1\n",
       "dtype: int64"
      ]
     },
     "execution_count": 103,
     "metadata": {},
     "output_type": "execute_result"
    }
   ],
   "source": [
    "# Count occurrences of different scores on 3x3 grid.\n",
    "df3x3 = df[df['grid_size']==3]\n",
    "df3x3.value_counts(['score'])"
   ]
  },
  {
   "cell_type": "code",
   "execution_count": 32,
   "id": "f20547a8",
   "metadata": {},
   "outputs": [
    {
     "data": {
      "text/plain": [
       "0    64\n",
       "Name: score, dtype: int64"
      ]
     },
     "execution_count": 32,
     "metadata": {},
     "output_type": "execute_result"
    }
   ],
   "source": [
    "# Get the mode for scores from all grids.\n",
    "df['score'].mode()"
   ]
  },
  {
   "cell_type": "code",
   "execution_count": 33,
   "id": "323b3de7",
   "metadata": {},
   "outputs": [
    {
     "data": {
      "text/plain": [
       "317.35110526126726"
      ]
     },
     "execution_count": 33,
     "metadata": {},
     "output_type": "execute_result"
    }
   ],
   "source": [
    "# Get the average game time (in seconds).\n",
    "df['time_played_sec'].mean()"
   ]
  },
  {
   "cell_type": "code",
   "execution_count": 68,
   "id": "26689109",
   "metadata": {},
   "outputs": [
    {
     "data": {
      "text/html": [
       "<div>\n",
       "<style scoped>\n",
       "    .dataframe tbody tr th:only-of-type {\n",
       "        vertical-align: middle;\n",
       "    }\n",
       "\n",
       "    .dataframe tbody tr th {\n",
       "        vertical-align: top;\n",
       "    }\n",
       "\n",
       "    .dataframe thead th {\n",
       "        text-align: right;\n",
       "    }\n",
       "</style>\n",
       "<table border=\"1\" class=\"dataframe\">\n",
       "  <thead>\n",
       "    <tr style=\"text-align: right;\">\n",
       "      <th></th>\n",
       "      <th>score</th>\n",
       "      <th>time_played_sec</th>\n",
       "      <th>grid_size</th>\n",
       "    </tr>\n",
       "  </thead>\n",
       "  <tbody>\n",
       "    <tr>\n",
       "      <th>count</th>\n",
       "      <td>114.000000</td>\n",
       "      <td>114.000000</td>\n",
       "      <td>114.000000</td>\n",
       "    </tr>\n",
       "    <tr>\n",
       "      <th>mean</th>\n",
       "      <td>146.350877</td>\n",
       "      <td>317.351105</td>\n",
       "      <td>3.254386</td>\n",
       "    </tr>\n",
       "    <tr>\n",
       "      <th>std</th>\n",
       "      <td>411.358315</td>\n",
       "      <td>1293.123468</td>\n",
       "      <td>0.512005</td>\n",
       "    </tr>\n",
       "    <tr>\n",
       "      <th>min</th>\n",
       "      <td>4.000000</td>\n",
       "      <td>2.106998</td>\n",
       "      <td>3.000000</td>\n",
       "    </tr>\n",
       "    <tr>\n",
       "      <th>25%</th>\n",
       "      <td>32.000000</td>\n",
       "      <td>39.637728</td>\n",
       "      <td>3.000000</td>\n",
       "    </tr>\n",
       "    <tr>\n",
       "      <th>50%</th>\n",
       "      <td>64.000000</td>\n",
       "      <td>73.477856</td>\n",
       "      <td>3.000000</td>\n",
       "    </tr>\n",
       "    <tr>\n",
       "      <th>75%</th>\n",
       "      <td>128.000000</td>\n",
       "      <td>164.110047</td>\n",
       "      <td>3.000000</td>\n",
       "    </tr>\n",
       "    <tr>\n",
       "      <th>max</th>\n",
       "      <td>4096.000000</td>\n",
       "      <td>13448.302297</td>\n",
       "      <td>6.000000</td>\n",
       "    </tr>\n",
       "  </tbody>\n",
       "</table>\n",
       "</div>"
      ],
      "text/plain": [
       "             score  time_played_sec   grid_size\n",
       "count   114.000000       114.000000  114.000000\n",
       "mean    146.350877       317.351105    3.254386\n",
       "std     411.358315      1293.123468    0.512005\n",
       "min       4.000000         2.106998    3.000000\n",
       "25%      32.000000        39.637728    3.000000\n",
       "50%      64.000000        73.477856    3.000000\n",
       "75%     128.000000       164.110047    3.000000\n",
       "max    4096.000000     13448.302297    6.000000"
      ]
     },
     "execution_count": 68,
     "metadata": {},
     "output_type": "execute_result"
    }
   ],
   "source": [
    "# Describe the dataset (excluding the 'id' column).\n",
    "fields = set(df.columns)-{'id'}\n",
    "dfDesc = df[list(fields)]\n",
    "dfDesc.describe()"
   ]
  },
  {
   "cell_type": "code",
   "execution_count": 110,
   "id": "50e6ce96",
   "metadata": {},
   "outputs": [
    {
     "data": {
      "image/png": "[encoded data removed]",
      "text/plain": [
       "<Figure size 432x288 with 1 Axes>"
      ]
     },
     "metadata": {
      "needs_background": "light"
     },
     "output_type": "display_data"
    }
   ],
   "source": [
    "# Plot the diagram showing average scores on different grids.\n",
    "data = {\n",
    "    'Grid Size':[3,4,5,6],\n",
    "    'Average Score':[\n",
    "                        df[df['grid_size']==3]['score'].mean(),\n",
    "                        df[df['grid_size']==4]['score'].mean(),\n",
    "                        df[df['grid_size']==5]['score'].mean(),\n",
    "                        df[df['grid_size']==6]['score'].mean()\n",
    "                    ]\n",
    "}\n",
    "dfSc = pd.DataFrame(data,columns=['Grid Size','Average Score'])\n",
    "dfSc.plot(x ='Grid Size', y='Average Score', kind='bar')\n",
    "plt.show()"
   ]
  },
  {
   "cell_type": "code",
   "execution_count": 111,
   "id": "996bb2d8",
   "metadata": {},
   "outputs": [
    {
     "data": {
      "image/png": "[encoded data removed]",
      "text/plain": [
       "<Figure size 432x288 with 1 Axes>"
      ]
     },
     "metadata": {
      "needs_background": "light"
     },
     "output_type": "display_data"
    }
   ],
   "source": [
    "# Plot the diagram showing average time played on different grids.\n",
    "# to be finished!!!!!!!!\n",
    "data = {\n",
    "    'Grid Size':[3,4,5,6],\n",
    "    'Average Score':[\n",
    "                        df[df['grid_size']==3]['score'].mean(),\n",
    "                        df[df['grid_size']==4]['score'].mean(),\n",
    "                        df[df['grid_size']==5]['score'].mean(),\n",
    "                        df[df['grid_size']==6]['score'].mean()\n",
    "                    ]\n",
    "}\n",
    "dfSc = pd.DataFrame(data,columns=['Grid Size','Average Score'])\n",
    "dfSc.plot(x ='Grid Size', y='Average Score', kind='bar')\n",
    "plt.show()"
   ]
  },
  {
   "cell_type": "code",
   "execution_count": 49,
   "id": "a633fde4",
   "metadata": {},
   "outputs": [
    {
     "data": {
      "text/plain": [
       "3    88\n",
       "4    24\n",
       "5     1\n",
       "6     1\n",
       "Name: grid_size, dtype: int64"
      ]
     },
     "execution_count": 49,
     "metadata": {},
     "output_type": "execute_result"
    }
   ],
   "source": [
    "# Determine which grid is mostly used for playing. AND PLOT!!!\n",
    "df['grid_size'].value_counts()"
   ]
  },
  {
   "cell_type": "code",
   "execution_count": 62,
   "id": "5cfd07e9",
   "metadata": {},
   "outputs": [
    {
     "data": {
      "text/plain": [
       "<AxesSubplot:title={'center':'score'}, xlabel='grid_size'>"
      ]
     },
     "execution_count": 62,
     "metadata": {},
     "output_type": "execute_result"
    },
    {
     "data": {
      "image/png": "[encoded data removed]",
      "text/plain": [
       "<Figure size 432x288 with 1 Axes>"
      ]
     },
     "metadata": {
      "needs_background": "light"
     },
     "output_type": "display_data"
    }
   ],
   "source": [
    "df.boxplot(by ='grid_size', column =['score'], grid=False)"
   ]
  },
  {
   "cell_type": "code",
   "execution_count": 70,
   "id": "e76c6e0f",
   "metadata": {},
   "outputs": [
    {
     "data": {
      "image/png": "[encoded data removed]",
      "text/plain": [
       "<Figure size 432x288 with 1 Axes>"
      ]
     },
     "metadata": {
      "needs_background": "light"
     },
     "output_type": "display_data"
    }
   ],
   "source": [
    "# Scatter diagram.\n",
    "colors = {3:'red',4:'green',5:'blue',6:'brown'}\n",
    "df['colors'] = df['grid_size'].map(colors)\n",
    "df.plot.scatter(x='grid_size',y='score',color=df['colors']);"
   ]
  },
  {
   "cell_type": "code",
   "execution_count": 81,
   "id": "4403b67f",
   "metadata": {},
   "outputs": [
    {
     "data": {
      "image/png": "[encoded data removed]",
      "text/plain": [
       "<Figure size 432x288 with 1 Axes>"
      ]
     },
     "metadata": {
      "needs_background": "light"
     },
     "output_type": "display_data"
    }
   ],
   "source": [
    "# Scatter diagram showing the relation between time played and obtained score for 4x4 grid.\n",
    "dfFour = df[df['grid_size']==4]\n",
    "dfFour.plot.scatter(x='time_played_sec',y='score',color='red');"
   ]
  },
  {
   "cell_type": "code",
   "execution_count": 87,
   "id": "1063cefc",
   "metadata": {},
   "outputs": [
    {
     "data": {
      "text/html": [
       "<div>\n",
       "<style scoped>\n",
       "    .dataframe tbody tr th:only-of-type {\n",
       "        vertical-align: middle;\n",
       "    }\n",
       "\n",
       "    .dataframe tbody tr th {\n",
       "        vertical-align: top;\n",
       "    }\n",
       "\n",
       "    .dataframe thead th {\n",
       "        text-align: right;\n",
       "    }\n",
       "</style>\n",
       "<table border=\"1\" class=\"dataframe\">\n",
       "  <thead>\n",
       "    <tr style=\"text-align: right;\">\n",
       "      <th></th>\n",
       "      <th>id</th>\n",
       "      <th>grid_size</th>\n",
       "      <th>score</th>\n",
       "      <th>time_played_sec</th>\n",
       "      <th>date_played</th>\n",
       "      <th>colors</th>\n",
       "    </tr>\n",
       "  </thead>\n",
       "  <tbody>\n",
       "    <tr>\n",
       "      <th>105</th>\n",
       "      <td>105</td>\n",
       "      <td>3</td>\n",
       "      <td>128</td>\n",
       "      <td>13448.302297</td>\n",
       "      <td>29 Mar 2022 11:28:35 PM</td>\n",
       "      <td>red</td>\n",
       "    </tr>\n",
       "    <tr>\n",
       "      <th>106</th>\n",
       "      <td>106</td>\n",
       "      <td>3</td>\n",
       "      <td>64</td>\n",
       "      <td>86.772497</td>\n",
       "      <td>29 Mar 2022 11:30:15 PM</td>\n",
       "      <td>red</td>\n",
       "    </tr>\n",
       "    <tr>\n",
       "      <th>107</th>\n",
       "      <td>107</td>\n",
       "      <td>3</td>\n",
       "      <td>64</td>\n",
       "      <td>70.488303</td>\n",
       "      <td>29 Mar 2022 11:31:35 PM</td>\n",
       "      <td>red</td>\n",
       "    </tr>\n",
       "    <tr>\n",
       "      <th>109</th>\n",
       "      <td>109</td>\n",
       "      <td>3</td>\n",
       "      <td>8</td>\n",
       "      <td>15.920760</td>\n",
       "      <td>02 Apr 2022 02:14:49 PM</td>\n",
       "      <td>red</td>\n",
       "    </tr>\n",
       "    <tr>\n",
       "      <th>110</th>\n",
       "      <td>110</td>\n",
       "      <td>3</td>\n",
       "      <td>16</td>\n",
       "      <td>39.745141</td>\n",
       "      <td>02 Apr 2022 02:15:39 PM</td>\n",
       "      <td>red</td>\n",
       "    </tr>\n",
       "  </tbody>\n",
       "</table>\n",
       "</div>"
      ],
      "text/plain": [
       "      id  grid_size  score  time_played_sec              date_played colors\n",
       "105  105          3    128     13448.302297  29 Mar 2022 11:28:35 PM    red\n",
       "106  106          3     64        86.772497  29 Mar 2022 11:30:15 PM    red\n",
       "107  107          3     64        70.488303  29 Mar 2022 11:31:35 PM    red\n",
       "109  109          3      8        15.920760  02 Apr 2022 02:14:49 PM    red\n",
       "110  110          3     16        39.745141  02 Apr 2022 02:15:39 PM    red"
      ]
     },
     "execution_count": 87,
     "metadata": {},
     "output_type": "execute_result"
    }
   ],
   "source": [
    "# Display only the records where the grid size is equal to 3.\n",
    "dfThree = df[df['grid_size']==3]\n",
    "dfThree.tail()"
   ]
  }
 ],
 "metadata": {
  "kernelspec": {
   "display_name": "Python 3 (ipykernel)",
   "language": "python",
   "name": "python3"
  },
  "language_info": {
   "codemirror_mode": {
    "name": "ipython",
    "version": 3
   },
   "file_extension": ".py",
   "mimetype": "text/x-python",
   "name": "python",
   "nbconvert_exporter": "python",
   "pygments_lexer": "ipython3",
   "version": "3.10.0"
  }
 },
 "nbformat": 4,
 "nbformat_minor": 5
}
